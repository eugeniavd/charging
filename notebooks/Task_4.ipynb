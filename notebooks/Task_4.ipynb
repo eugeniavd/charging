{
 "cells": [
  {
   "cell_type": "markdown",
   "id": "61e033b0-8c96-42f0-a3a7-1b888dfbd843",
   "metadata": {},
   "source": [
    "# Task 4 - Utilization Prediction\n",
    "\n",
    "*The operator has tasked you with developing a model for predicting hourly\n",
    "utilization of the two sites. Remember to use appropriate evaluation and validation techniques to\n",
    "measure and ensure performance of the predictive model!*\n",
    "\n",
    "*(a) Your boss understands a little bit about statistical models, but they are not sure about these\n",
    "fancy new neural networks that you told them could be used for predictive tasks. Develop two\n",
    "predictive models, one using neural networks and the other one explicitly not using neural\n",
    "networks, but another technique of your choice. Use cross-validation to train the models and\n",
    "compare the predictive performance of both models on the same holdout set. What type of\n",
    "model should the operator employ? Give a suggestion, keeping in mind the trade-off between\n",
    "explainability and performance.*"
   ]
  },
  {
   "cell_type": "markdown",
   "id": "cb33a0fb",
   "metadata": {},
   "source": [
    "Let us start by importing the needed libraries and setting the device that is available."
   ]
  },
  {
   "cell_type": "code",
   "execution_count": 1,
   "id": "72e3a1b1-6173-4fc9-bbec-906899d9f63b",
   "metadata": {
    "tags": []
   },
   "outputs": [],
   "source": [
    "# All imports are listed and executed here:\n",
    "import numpy as np\n",
    "import pandas as pd\n",
    "import json\n",
    "import pytz\n",
    "from datetime import datetime\n",
    "import pytz\n",
    "import matplotlib.pyplot as plt\n",
    "from ipywidgets import *\n",
    "import torch\n",
    "import torch.nn as nn\n",
    "from torch.nn.functional import normalize\n",
    "import torch.utils.data as data\n",
    "from torch.utils.data import DataLoader, Dataset\n",
    "import matplotlib.pyplot as plt\n",
    "pd.options.mode.chained_assignment = None  # default='warn'"
   ]
  },
  {
   "cell_type": "code",
   "execution_count": 2,
   "id": "1bdaa0e9-44a6-48a9-88f2-12db782675f2",
   "metadata": {
    "tags": []
   },
   "outputs": [
    {
     "name": "stdout",
     "output_type": "stream",
     "text": [
      "False\n"
     ]
    }
   ],
   "source": [
    "print(torch.cuda.is_available())\n",
    "if torch.cuda.is_available():\n",
    "    print(torch.cuda.get_device_name(0))\n",
    "\n",
    "device = torch.device('cuda' if torch.cuda.is_available() else 'cpu')\n",
    "#device = 'cuda'"
   ]
  },
  {
   "cell_type": "markdown",
   "id": "07ad8002",
   "metadata": {},
   "source": [
    "### Data preparation"
   ]
  },
  {
   "cell_type": "markdown",
   "id": "712475c3",
   "metadata": {},
   "source": [
    "Now, we load the data and split them into different sets for each of the two sites.\n",
    "\n",
    "We also prepare each of the features so that they are grouped by the hour."
   ]
  },
  {
   "cell_type": "code",
   "execution_count": 3,
   "id": "851cf32c-35cc-4c2e-8abc-2c8d91d6d17c",
   "metadata": {
    "tags": []
   },
   "outputs": [],
   "source": [
    "df_all = pd.DataFrame(pd.read_csv(\"../datasets/data_clusters_cleaned.csv\"))\n",
    "df_all_1 = df_all[df_all[\"siteID\"] == 1]\n",
    "df_all_2 = df_all[df_all[\"siteID\"] == 2]\n",
    "df_data_1 = df_all_1.sample(frac = 0.9)\n",
    "df_data_2 = df_all_2.sample(frac = 0.9)\n",
    "test_data_1 = df_all_1.drop(df_data_1.index)\n",
    "test_data_2 = df_all_2.drop(df_data_2.index)"
   ]
  },
  {
   "cell_type": "code",
   "execution_count": 4,
   "id": "8c3d6766-1ae2-40aa-953d-0d6e2e107eae",
   "metadata": {
    "tags": []
   },
   "outputs": [],
   "source": [
    "df_site_1 = df_data_1[[\n",
    "    \"kWhDelivered\",\n",
    "    \"temperature\", \n",
    "    \"weather\",\n",
    "    \"pressure\",\n",
    "    \"windspeed\",\n",
    "    \"precipitation\",\n",
    "    \"connection_year\",\n",
    "    \"connection_month\",\n",
    "    \"connection_day\",\n",
    "    \"connection_hour\",\n",
    "]]\n",
    "df_site_2 = df_data_2[[\n",
    "    \"kWhDelivered\",\n",
    "    \"temperature\", \n",
    "    \"weather\",\n",
    "    \"pressure\",\n",
    "    \"windspeed\",\n",
    "    \"precipitation\",\n",
    "    \"connection_year\",\n",
    "    \"connection_month\",\n",
    "    \"connection_day\",\n",
    "    \"connection_hour\",\n",
    "]]\n",
    "test_data_1 = test_data_1[[\n",
    "    \"kWhDelivered\",\n",
    "    \"temperature\", \n",
    "    \"weather\",\n",
    "    \"pressure\",\n",
    "    \"windspeed\",\n",
    "    \"precipitation\",\n",
    "    \"connection_year\",\n",
    "    \"connection_month\",\n",
    "    \"connection_day\",\n",
    "    \"connection_hour\",\n",
    "]]\n",
    "test_data_2 = test_data_2[[\n",
    "    \"kWhDelivered\",\n",
    "    \"temperature\", \n",
    "    \"weather\",\n",
    "    \"pressure\",\n",
    "    \"windspeed\",\n",
    "    \"precipitation\",\n",
    "    \"connection_year\",\n",
    "    \"connection_month\",\n",
    "    \"connection_day\",\n",
    "    \"connection_hour\",\n",
    "]]"
   ]
  },
  {
   "cell_type": "code",
   "execution_count": 5,
   "id": "2cbaa43e-9d79-47ea-a5f1-649bf807ae98",
   "metadata": {
    "tags": []
   },
   "outputs": [],
   "source": [
    "df_avg_temperature_1 = df_site_1.groupby([\n",
    "    \"connection_year\",\n",
    "    \"connection_month\",\n",
    "    \"connection_day\",\n",
    "    \"connection_hour\"\n",
    "])[\"temperature\"].mean().reset_index()\n",
    "df_avg_temperature_2 = df_site_2.groupby([\n",
    "    \"connection_year\",\n",
    "    \"connection_month\",\n",
    "    \"connection_day\",\n",
    "    \"connection_hour\"\n",
    "])[\"temperature\"].mean().reset_index()\n",
    "test_avg_temperature_1 = test_data_1.groupby([\n",
    "    \"connection_year\",\n",
    "    \"connection_month\",\n",
    "    \"connection_day\",\n",
    "    \"connection_hour\"\n",
    "])[\"temperature\"].mean().reset_index()\n",
    "test_avg_temperature_2 = test_data_2.groupby([\n",
    "    \"connection_year\",\n",
    "    \"connection_month\",\n",
    "    \"connection_day\",\n",
    "    \"connection_hour\"\n",
    "])[\"temperature\"].mean().reset_index()"
   ]
  },
  {
   "cell_type": "code",
   "execution_count": 6,
   "id": "6cb28422-3462-4ec2-b7c2-ac740a9039e5",
   "metadata": {
    "tags": []
   },
   "outputs": [],
   "source": [
    "df_avg_pressure_1 = df_site_1.groupby([\n",
    "    \"connection_year\",\n",
    "    \"connection_month\",\n",
    "    \"connection_day\",\n",
    "    \"connection_hour\"\n",
    "])[\"pressure\"].mean().reset_index()\n",
    "df_avg_pressure_2 = df_site_2.groupby([\n",
    "    \"connection_year\",\n",
    "    \"connection_month\",\n",
    "    \"connection_day\",\n",
    "    \"connection_hour\"\n",
    "])[\"pressure\"].mean().reset_index()\n",
    "test_avg_pressure_1 = test_data_1.groupby([\n",
    "    \"connection_year\",\n",
    "    \"connection_month\",\n",
    "    \"connection_day\",\n",
    "    \"connection_hour\"\n",
    "])[\"pressure\"].mean().reset_index()\n",
    "test_avg_pressure_2 = test_data_2.groupby([\n",
    "    \"connection_year\",\n",
    "    \"connection_month\",\n",
    "    \"connection_day\",\n",
    "    \"connection_hour\"\n",
    "])[\"pressure\"].mean().reset_index()"
   ]
  },
  {
   "cell_type": "code",
   "execution_count": 7,
   "id": "090fecbb-e9b0-47af-8cdf-b3948254f77a",
   "metadata": {
    "tags": []
   },
   "outputs": [],
   "source": [
    "df_avg_weather_1 = df_site_1.groupby([\n",
    "    \"connection_year\",\n",
    "    \"connection_month\",\n",
    "    \"connection_day\",\n",
    "    \"connection_hour\"\n",
    "])[\"weather\"].agg(lambda x: x.value_counts().index[0]).reset_index()\n",
    "df_avg_weather_2 = df_site_2.groupby([\n",
    "    \"connection_year\",\n",
    "    \"connection_month\",\n",
    "    \"connection_day\",\n",
    "    \"connection_hour\"\n",
    "])[\"weather\"].agg(lambda x: x.value_counts().index[0]).reset_index()\n",
    "test_avg_weather_1 = test_data_1.groupby([\n",
    "    \"connection_year\",\n",
    "    \"connection_month\",\n",
    "    \"connection_day\",\n",
    "    \"connection_hour\"\n",
    "])[\"weather\"].agg(lambda x: x.value_counts().index[0]).reset_index()\n",
    "test_avg_weather_2 = test_data_2.groupby([\n",
    "    \"connection_year\",\n",
    "    \"connection_month\",\n",
    "    \"connection_day\",\n",
    "    \"connection_hour\"\n",
    "])[\"weather\"].agg(lambda x: x.value_counts().index[0]).reset_index()"
   ]
  },
  {
   "cell_type": "code",
   "execution_count": 8,
   "id": "e6cb2f06-39fa-4a4b-91cf-4f32d6ac1a27",
   "metadata": {
    "tags": []
   },
   "outputs": [],
   "source": [
    "df_avg_windspeed_1 = df_site_1.groupby([\n",
    "    \"connection_year\",\n",
    "    \"connection_month\",\n",
    "    \"connection_day\",\n",
    "    \"connection_hour\"\n",
    "])[\"windspeed\"].mean().reset_index()\n",
    "df_avg_windspeed_2 = df_site_2.groupby([\n",
    "    \"connection_year\",\n",
    "    \"connection_month\",\n",
    "    \"connection_day\",\n",
    "    \"connection_hour\"\n",
    "])[\"windspeed\"].mean().reset_index()\n",
    "test_avg_windspeed_1 = test_data_1.groupby([\n",
    "    \"connection_year\",\n",
    "    \"connection_month\",\n",
    "    \"connection_day\",\n",
    "    \"connection_hour\"\n",
    "])[\"windspeed\"].mean().reset_index()\n",
    "test_avg_windspeed_2 = test_data_2.groupby([\n",
    "    \"connection_year\",\n",
    "    \"connection_month\",\n",
    "    \"connection_day\",\n",
    "    \"connection_hour\"\n",
    "])[\"windspeed\"].mean().reset_index()"
   ]
  },
  {
   "cell_type": "code",
   "execution_count": 9,
   "id": "ae616588-1799-4c3a-85af-02b1e546f08e",
   "metadata": {
    "tags": []
   },
   "outputs": [],
   "source": [
    "df_avg_precipitation_1 = df_site_1.groupby([\n",
    "    \"connection_year\",\n",
    "    \"connection_month\",\n",
    "    \"connection_day\",\n",
    "    \"connection_hour\"\n",
    "])[\"precipitation\"].mean().reset_index()\n",
    "df_avg_precipitation_2 = df_site_2.groupby([\n",
    "    \"connection_year\",\n",
    "    \"connection_month\",\n",
    "    \"connection_day\",\n",
    "    \"connection_hour\"\n",
    "])[\"precipitation\"].mean().reset_index()\n",
    "test_avg_precipitation_1 = test_data_1.groupby([\n",
    "    \"connection_year\",\n",
    "    \"connection_month\",\n",
    "    \"connection_day\",\n",
    "    \"connection_hour\"\n",
    "])[\"precipitation\"].mean().reset_index()\n",
    "test_avg_precipitation_2 = test_data_2.groupby([\n",
    "    \"connection_year\",\n",
    "    \"connection_month\",\n",
    "    \"connection_day\",\n",
    "    \"connection_hour\"\n",
    "])[\"precipitation\"].mean().reset_index()"
   ]
  },
  {
   "cell_type": "code",
   "execution_count": 10,
   "id": "e6ea21f9-b24e-4074-abdc-d1539d9b0d21",
   "metadata": {
    "tags": []
   },
   "outputs": [],
   "source": [
    "df_sum_kWhDelivered_1 = df_site_1.groupby([\n",
    "    \"connection_year\",\n",
    "    \"connection_month\",\n",
    "    \"connection_day\",\n",
    "    \"connection_hour\"\n",
    "])[\"kWhDelivered\"].sum().reset_index()\n",
    "df_sum_kWhDelivered_2 = df_site_2.groupby([\n",
    "    \"connection_year\",\n",
    "    \"connection_month\",\n",
    "    \"connection_day\",\n",
    "    \"connection_hour\"\n",
    "])[\"kWhDelivered\"].sum().reset_index()\n",
    "test_sum_kWhDelivered_1 = test_data_1.groupby([\n",
    "    \"connection_year\",\n",
    "    \"connection_month\",\n",
    "    \"connection_day\",\n",
    "    \"connection_hour\"\n",
    "])[\"kWhDelivered\"].sum().reset_index()\n",
    "test_sum_kWhDelivered_2 = test_data_2.groupby([\n",
    "    \"connection_year\",\n",
    "    \"connection_month\",\n",
    "    \"connection_day\",\n",
    "    \"connection_hour\"\n",
    "])[\"kWhDelivered\"].sum().reset_index()"
   ]
  },
  {
   "cell_type": "code",
   "execution_count": 11,
   "id": "08e22a36-9f5a-42bd-9431-fa7e765651cb",
   "metadata": {
    "tags": []
   },
   "outputs": [],
   "source": [
    "df_sum_kWhDelivered_1[\"temperature\"] = df_avg_temperature_1[\"temperature\"]\n",
    "df_sum_kWhDelivered_1[\"pressure\"] = df_avg_pressure_1[\"pressure\"]\n",
    "df_sum_kWhDelivered_1[\"weather\"] = df_avg_weather_1[\"weather\"]\n",
    "df_sum_kWhDelivered_1[\"windspeed\"] = df_avg_windspeed_1[\"windspeed\"]\n",
    "df_sum_kWhDelivered_1[\"precipitation\"] = df_avg_precipitation_1[\"precipitation\"]\n",
    "df_sum_kWhDelivered_2[\"temperature\"] = df_avg_temperature_2[\"temperature\"]\n",
    "df_sum_kWhDelivered_2[\"pressure\"] = df_avg_pressure_2[\"pressure\"]\n",
    "df_sum_kWhDelivered_2[\"weather\"] = df_avg_weather_2[\"weather\"]\n",
    "df_sum_kWhDelivered_2[\"windspeed\"] = df_avg_windspeed_2[\"windspeed\"]\n",
    "df_sum_kWhDelivered_2[\"precipitation\"] = df_avg_precipitation_2[\"precipitation\"]\n",
    "test_sum_kWhDelivered_1[\"temperature\"] = test_avg_temperature_1[\"temperature\"]\n",
    "test_sum_kWhDelivered_1[\"pressure\"] = test_avg_pressure_1[\"pressure\"]\n",
    "test_sum_kWhDelivered_1[\"weather\"] = test_avg_weather_1[\"weather\"]\n",
    "test_sum_kWhDelivered_1[\"windspeed\"] = test_avg_windspeed_1[\"windspeed\"]\n",
    "test_sum_kWhDelivered_1[\"precipitation\"] = test_avg_precipitation_1[\"precipitation\"]\n",
    "test_sum_kWhDelivered_2[\"temperature\"] = test_avg_temperature_2[\"temperature\"]\n",
    "test_sum_kWhDelivered_2[\"pressure\"] = test_avg_pressure_2[\"pressure\"]\n",
    "test_sum_kWhDelivered_2[\"weather\"] = test_avg_weather_2[\"weather\"]\n",
    "test_sum_kWhDelivered_2[\"windspeed\"] = test_avg_windspeed_2[\"windspeed\"]\n",
    "test_sum_kWhDelivered_2[\"precipitation\"] = test_avg_precipitation_2[\"precipitation\"]"
   ]
  },
  {
   "cell_type": "code",
   "execution_count": 12,
   "id": "66b3c726-bf5b-4d7d-b5ed-8f424265e023",
   "metadata": {
    "tags": []
   },
   "outputs": [],
   "source": [
    "df_site_1 = df_sum_kWhDelivered_1.copy(deep=False)\n",
    "df_site_2 = df_sum_kWhDelivered_2.copy(deep=False)\n",
    "test_site_1 = test_sum_kWhDelivered_1.copy(deep=False)\n",
    "test_site_2 = test_sum_kWhDelivered_2.copy(deep=False)"
   ]
  },
  {
   "cell_type": "markdown",
   "id": "c89abcf8",
   "metadata": {},
   "source": [
    "Now, we scale the values so that they all fall into the same range."
   ]
  },
  {
   "cell_type": "code",
   "execution_count": 13,
   "id": "07b5906c-eb2d-4836-9505-e37a323431ce",
   "metadata": {
    "tags": []
   },
   "outputs": [],
   "source": [
    "df_site_1[\"kWhDelivered\"] = (df_site_1[\"kWhDelivered\"] - min(df_site_1[\"kWhDelivered\"])) / (max(df_site_1[\"kWhDelivered\"]) - min(df_site_1[\"kWhDelivered\"]))\n",
    "df_site_1[\"temperature\"] = (df_site_1[\"temperature\"] - min(df_site_1[\"temperature\"])) / (max(df_site_1[\"temperature\"]) - min(df_site_1[\"temperature\"]))\n",
    "df_site_1[\"pressure\"] = (df_site_1[\"pressure\"] - min(df_site_1[\"pressure\"])) / (max(df_site_1[\"pressure\"]) - min(df_site_1[\"pressure\"]))\n",
    "df_site_1[\"weather\"] = (df_site_1[\"weather\"] - min(df_site_1[\"weather\"])) / (max(df_site_1[\"weather\"]) - min(df_site_1[\"weather\"]))\n",
    "df_site_1[\"windspeed\"] = (df_site_1[\"windspeed\"] - min(df_site_1[\"windspeed\"])) / (max(df_site_1[\"windspeed\"]) - min(df_site_1[\"windspeed\"]))\n",
    "df_site_1[\"precipitation\"] = (df_site_1[\"precipitation\"] - min(df_site_1[\"precipitation\"])) / (max(df_site_1[\"precipitation\"]) - min(df_site_1[\"precipitation\"]))\n",
    "df_site_1[\"connection_month\"] = (df_site_1[\"connection_month\"] - min(df_site_1[\"connection_month\"])) / (max(df_site_1[\"connection_month\"]) - min(df_site_1[\"connection_month\"]))\n",
    "df_site_1[\"connection_day\"] = (df_site_1[\"connection_day\"] - min(df_site_1[\"connection_day\"])) / (max(df_site_1[\"connection_day\"]) - min(df_site_1[\"connection_day\"]))\n",
    "df_site_1[\"connection_hour\"] = (df_site_1[\"connection_hour\"] - min(df_site_1[\"connection_hour\"])) / (max(df_site_1[\"connection_hour\"]) - min(df_site_1[\"connection_hour\"]))"
   ]
  },
  {
   "cell_type": "code",
   "execution_count": 14,
   "id": "82428837-5c82-489e-9b90-c8264e3e92e3",
   "metadata": {
    "tags": []
   },
   "outputs": [],
   "source": [
    "test_site_1[\"kWhDelivered\"] = (test_site_1[\"kWhDelivered\"] - min(test_site_1[\"kWhDelivered\"])) / (max(test_site_1[\"kWhDelivered\"]) - min(test_site_1[\"kWhDelivered\"]))\n",
    "test_site_1[\"temperature\"] = (test_site_1[\"temperature\"] - min(test_site_1[\"temperature\"])) / (max(test_site_1[\"temperature\"]) - min(test_site_1[\"temperature\"]))\n",
    "test_site_1[\"pressure\"] = (test_site_1[\"pressure\"] - min(test_site_1[\"pressure\"])) / (max(test_site_1[\"pressure\"]) - min(test_site_1[\"pressure\"]))\n",
    "test_site_1[\"weather\"] = (test_site_1[\"weather\"] - min(test_site_1[\"weather\"])) / (max(test_site_1[\"weather\"]) - min(test_site_1[\"weather\"]))\n",
    "test_site_1[\"windspeed\"] = (test_site_1[\"windspeed\"] - min(test_site_1[\"windspeed\"])) / (max(test_site_1[\"windspeed\"]) - min(test_site_1[\"windspeed\"]))\n",
    "test_site_1[\"precipitation\"] = (test_site_1[\"precipitation\"] - min(test_site_1[\"precipitation\"])) / (max(test_site_1[\"precipitation\"]) - min(test_site_1[\"precipitation\"]))\n",
    "test_site_1[\"connection_month\"] = (test_site_1[\"connection_month\"] - min(test_site_1[\"connection_month\"])) / (max(test_site_1[\"connection_month\"]) - min(test_site_1[\"connection_month\"]))\n",
    "test_site_1[\"connection_day\"] = (test_site_1[\"connection_day\"] - min(test_site_1[\"connection_day\"])) / (max(test_site_1[\"connection_day\"]) - min(test_site_1[\"connection_day\"]))\n",
    "test_site_1[\"connection_hour\"] = (test_site_1[\"connection_hour\"] - min(test_site_1[\"connection_hour\"])) / (max(test_site_1[\"connection_hour\"]) - min(test_site_1[\"connection_hour\"]))"
   ]
  },
  {
   "cell_type": "code",
   "execution_count": 15,
   "id": "a44fe3e5-8962-4e8b-a90e-1c0d3dc95c25",
   "metadata": {
    "tags": []
   },
   "outputs": [],
   "source": [
    "df_site_2[\"kWhDelivered\"] = (df_site_2[\"kWhDelivered\"] - min(df_site_2[\"kWhDelivered\"])) / (max(df_site_2[\"kWhDelivered\"]) - min(df_site_2[\"kWhDelivered\"]))\n",
    "df_site_2[\"temperature\"] = (df_site_2[\"temperature\"] - min(df_site_2[\"temperature\"])) / (max(df_site_2[\"temperature\"]) - min(df_site_2[\"temperature\"]))\n",
    "df_site_2[\"pressure\"] = (df_site_2[\"pressure\"] - min(df_site_2[\"pressure\"])) / (max(df_site_2[\"pressure\"]) - min(df_site_2[\"pressure\"]))\n",
    "df_site_2[\"weather\"] = (df_site_2[\"weather\"] - min(df_site_2[\"weather\"])) / (max(df_site_2[\"weather\"]) - min(df_site_2[\"weather\"]))\n",
    "df_site_2[\"windspeed\"] = (df_site_2[\"windspeed\"] - min(df_site_2[\"windspeed\"])) / (max(df_site_2[\"windspeed\"]) - min(df_site_2[\"windspeed\"]))\n",
    "df_site_2[\"precipitation\"] = (df_site_2[\"precipitation\"] - min(df_site_2[\"precipitation\"])) / (max(df_site_2[\"precipitation\"]) - min(df_site_2[\"precipitation\"]))\n",
    "df_site_2[\"connection_month\"] = (df_site_2[\"connection_month\"] - min(df_site_2[\"connection_month\"])) / (max(df_site_2[\"connection_month\"]) - min(df_site_2[\"connection_month\"]))\n",
    "df_site_2[\"connection_day\"] = (df_site_2[\"connection_day\"] - min(df_site_2[\"connection_day\"])) / (max(df_site_2[\"connection_day\"]) - min(df_site_2[\"connection_day\"]))\n",
    "df_site_2[\"connection_hour\"] = (df_site_2[\"connection_hour\"] - min(df_site_2[\"connection_hour\"])) / (max(df_site_2[\"connection_hour\"]) - min(df_site_2[\"connection_hour\"]))"
   ]
  },
  {
   "cell_type": "code",
   "execution_count": 16,
   "id": "ad15b496-30b1-4344-980f-c7d7a5db85d9",
   "metadata": {
    "tags": []
   },
   "outputs": [],
   "source": [
    "test_site_2[\"kWhDelivered\"] = (test_site_2[\"kWhDelivered\"] - min(test_site_2[\"kWhDelivered\"])) / (max(test_site_2[\"kWhDelivered\"]) - min(test_site_2[\"kWhDelivered\"]))\n",
    "test_site_2[\"temperature\"] = (test_site_2[\"temperature\"] - min(test_site_2[\"temperature\"])) / (max(test_site_2[\"temperature\"]) - min(test_site_2[\"temperature\"]))\n",
    "test_site_2[\"pressure\"] = (test_site_2[\"pressure\"] - min(test_site_2[\"pressure\"])) / (max(test_site_2[\"pressure\"]) - min(test_site_2[\"pressure\"]))\n",
    "test_site_2[\"weather\"] = (test_site_2[\"weather\"] - min(test_site_2[\"weather\"])) / (max(test_site_2[\"weather\"]) - min(test_site_2[\"weather\"]))\n",
    "test_site_2[\"windspeed\"] = (test_site_2[\"windspeed\"] - min(test_site_2[\"windspeed\"])) / (max(test_site_2[\"windspeed\"]) - min(test_site_2[\"windspeed\"]))\n",
    "test_site_2[\"precipitation\"] = (test_site_2[\"precipitation\"] - min(test_site_2[\"precipitation\"])) / (max(test_site_2[\"precipitation\"]) - min(test_site_2[\"precipitation\"]))\n",
    "test_site_2[\"connection_month\"] = (test_site_2[\"connection_month\"] - min(test_site_2[\"connection_month\"])) / (max(test_site_2[\"connection_month\"]) - min(test_site_2[\"connection_month\"]))\n",
    "test_site_2[\"connection_day\"] = (test_site_2[\"connection_day\"] - min(test_site_2[\"connection_day\"])) / (max(test_site_2[\"connection_day\"]) - min(test_site_2[\"connection_day\"]))\n",
    "test_site_2[\"connection_hour\"] = (test_site_2[\"connection_hour\"] - min(test_site_2[\"connection_hour\"])) / (max(test_site_2[\"connection_hour\"]) - min(test_site_2[\"connection_hour\"]))"
   ]
  },
  {
   "cell_type": "markdown",
   "id": "08c06b2a",
   "metadata": {},
   "source": [
    "Here, we drop the connection year feature, and set the kWhDelivered as the labels."
   ]
  },
  {
   "cell_type": "code",
   "execution_count": 17,
   "id": "dd74b065-215d-4bce-858a-fbdf321fa3c3",
   "metadata": {
    "tags": []
   },
   "outputs": [],
   "source": [
    "df_site_1 = df_site_1.drop([\"connection_year\"], axis=1)\n",
    "df_site_2 = df_site_2.drop([\"connection_year\"], axis=1)\n",
    "\n",
    "df_site_1_labels = df_site_1[\"kWhDelivered\"]\n",
    "df_site_1 = df_site_1.drop([\"kWhDelivered\"], axis=1)\n",
    "df_site_1_features = df_site_1.copy(deep=False)\n",
    "\n",
    "df_site_2_labels = df_site_2[\"kWhDelivered\"]\n",
    "df_site_2 = df_site_2.drop([\"kWhDelivered\"], axis=1)\n",
    "df_site_2_features = df_site_2.copy(deep=False)"
   ]
  },
  {
   "cell_type": "code",
   "execution_count": 18,
   "id": "4098baf8-ffcd-4807-8d6a-88a7c0aa8928",
   "metadata": {
    "tags": []
   },
   "outputs": [],
   "source": [
    "test_site_1 = test_site_1.drop([\"connection_year\"], axis=1)\n",
    "test_site_2 = test_site_2.drop([\"connection_year\"], axis=1)\n",
    "\n",
    "test_site_1_labels = test_site_1[\"kWhDelivered\"]\n",
    "test_site_1 = test_site_1.drop([\"kWhDelivered\"], axis=1)\n",
    "test_site_1_features = test_site_1.copy(deep=False)\n",
    "\n",
    "test_site_2_labels = test_site_2[\"kWhDelivered\"]\n",
    "test_site_2 = test_site_2.drop([\"kWhDelivered\"], axis=1)\n",
    "test_site_2_features = test_site_2.copy(deep=False)"
   ]
  },
  {
   "cell_type": "markdown",
   "id": "51106624",
   "metadata": {},
   "source": [
    "We transfer the data into torch tensors, which are much faster to work with."
   ]
  },
  {
   "cell_type": "code",
   "execution_count": 19,
   "id": "18c71a49-c90b-4c82-9203-0e4f9b6cafd3",
   "metadata": {
    "tags": []
   },
   "outputs": [],
   "source": [
    "df_site_1_data = [[torch.tensor(df_site_1_features.iloc[0].values, dtype = torch.float32), torch.tensor(df_site_1_labels.iloc[0], dtype=torch.float32)]]\n",
    "for i in range (1, len(df_site_1_features)):\n",
    "    df_site_1_data.append([torch.tensor(df_site_1_features.iloc[i].values, dtype = torch.float32), torch.tensor(df_site_1_labels.iloc[i], dtype=torch.float32)])\n",
    "\n",
    "df_site_1_data = tuple(df_site_1_data)"
   ]
  },
  {
   "cell_type": "code",
   "execution_count": 20,
   "id": "1a61d000-eac5-4b07-812b-79bbb2d6b33f",
   "metadata": {
    "tags": []
   },
   "outputs": [],
   "source": [
    "test_site_1_data = [[torch.tensor(test_site_1_features.iloc[0].values, dtype = torch.float32), torch.tensor(test_site_1_labels.iloc[0], dtype=torch.float32)]]\n",
    "for i in range (1, len(test_site_1_features)):\n",
    "    test_site_1_data.append([torch.tensor(test_site_1_features.iloc[i].values, dtype = torch.float32), torch.tensor(test_site_1_labels.iloc[i], dtype=torch.float32)])\n",
    "\n",
    "test_site_1_data = tuple(test_site_1_data)"
   ]
  },
  {
   "cell_type": "code",
   "execution_count": 21,
   "id": "2adcd080-ebef-4de4-a73e-b0472ef1a4bd",
   "metadata": {
    "tags": []
   },
   "outputs": [],
   "source": [
    "df_site_2_data = [[torch.tensor(df_site_2_features.iloc[0].values, dtype = torch.float32), torch.tensor(df_site_2_labels.iloc[0], dtype=torch.float32)]]\n",
    "for i in range (1, len(df_site_2_features)):\n",
    "    df_site_2_data.append([torch.tensor(df_site_2_features.iloc[i].values, dtype = torch.float32), torch.tensor(df_site_2_labels.iloc[i], dtype=torch.float32)])\n",
    "\n",
    "df_site_2_data = tuple(df_site_2_data)"
   ]
  },
  {
   "cell_type": "code",
   "execution_count": 22,
   "id": "d3cf04ee-4f28-43bb-aa09-5dd2237a2b1f",
   "metadata": {
    "tags": []
   },
   "outputs": [],
   "source": [
    "test_site_2_data = [[torch.tensor(test_site_2_features.iloc[0].values, dtype = torch.float32), torch.tensor(test_site_2_labels.iloc[0], dtype=torch.float32)]]\n",
    "for i in range (1, len(test_site_2_features)):\n",
    "    test_site_2_data.append([torch.tensor(test_site_2_features.iloc[i].values, dtype = torch.float32), torch.tensor(test_site_2_labels.iloc[i], dtype=torch.float32)])\n",
    "\n",
    "test_site_2_data = tuple(test_site_2_data)"
   ]
  },
  {
   "cell_type": "markdown",
   "id": "8c395b47",
   "metadata": {},
   "source": [
    "Now, we create a training and validation set for the two sites."
   ]
  },
  {
   "cell_type": "code",
   "execution_count": 23,
   "id": "38fd8aa5-1a9a-4106-b090-fd8cc6e53343",
   "metadata": {
    "tags": []
   },
   "outputs": [
    {
     "name": "stdout",
     "output_type": "stream",
     "text": [
      "Train data set (Site 1): 6280\n",
      "Validation data set (Site 1): 1570\n",
      "Train data set (Site 2): 7904\n",
      "Validation data set (Site 2): 1976\n"
     ]
    }
   ],
   "source": [
    "train_data_size_1 = int(len(df_site_1_data) * 0.8)\n",
    "valid_data_size_1 = len(df_site_1_data) - train_data_size_1\n",
    "train_data_size_2 = int(len(df_site_2_data) * 0.8)\n",
    "valid_data_size_2 = len(df_site_2_data) - train_data_size_2\n",
    "train_data_1, valid_data_1 = data.random_split(df_site_1_data, [train_data_size_1, valid_data_size_1])\n",
    "train_data_2, valid_data_2 = data.random_split(df_site_2_data, [train_data_size_2, valid_data_size_2])\n",
    "print('Train data set (Site 1):', len(train_data_1))\n",
    "print('Validation data set (Site 1):', len(valid_data_1))\n",
    "print('Train data set (Site 2):', len(train_data_2))\n",
    "print('Validation data set (Site 2):', len(valid_data_2))"
   ]
  },
  {
   "cell_type": "markdown",
   "id": "2218f6d3",
   "metadata": {},
   "source": [
    "We define the batch size and create Dataloader objects for each of the datasets."
   ]
  },
  {
   "cell_type": "code",
   "execution_count": 24,
   "id": "e6d95e1c-85ba-4afb-9972-7a85ffa00707",
   "metadata": {
    "tags": []
   },
   "outputs": [],
   "source": [
    "BATCH_SIZE = 64\n",
    "train_dl_1 = DataLoader(train_data_1, batch_size=BATCH_SIZE, shuffle=True)\n",
    "valid_dl_1 = DataLoader(valid_data_1, batch_size=BATCH_SIZE, shuffle=True)\n",
    "train_dl_2 = DataLoader(train_data_2, batch_size=BATCH_SIZE, shuffle=True)\n",
    "valid_dl_2 = DataLoader(valid_data_2, batch_size=BATCH_SIZE, shuffle=True)\n",
    "test_dl_1 = DataLoader(test_site_1_data, batch_size=BATCH_SIZE, shuffle=False)\n",
    "test_dl_2 = DataLoader(test_site_2_data, batch_size=BATCH_SIZE, shuffle=False)"
   ]
  },
  {
   "cell_type": "markdown",
   "id": "9479a88a",
   "metadata": {},
   "source": [
    "### Neural Network"
   ]
  },
  {
   "cell_type": "markdown",
   "id": "b3abeeb4",
   "metadata": {},
   "source": [
    "This class is used to create a simple neural network with 8 layers including the output layer."
   ]
  },
  {
   "cell_type": "code",
   "execution_count": 25,
   "id": "19057c63-1ae1-4e80-8e16-c74b3aa6c881",
   "metadata": {
    "tags": []
   },
   "outputs": [],
   "source": [
    "class SimpleNN(nn.Module):\n",
    "    def __init__(self):\n",
    "        super(SimpleNN, self).__init__()\n",
    "        self.layer1 = nn.Sequential(\n",
    "            nn.Linear(8, 512),\n",
    "            nn.BatchNorm1d(512),\n",
    "            nn.ReLU(),\n",
    "            nn.Dropout(0.5))\n",
    "        self.layer2 = nn.Sequential(\n",
    "            nn.Linear(512, 256),\n",
    "            nn.BatchNorm1d(256),\n",
    "            nn.ReLU(),\n",
    "            nn.Dropout(0.5))\n",
    "        self.layer3 = nn.Sequential(\n",
    "            nn.Linear(256, 128),\n",
    "            nn.BatchNorm1d(128),\n",
    "            nn.ReLU(),\n",
    "            nn.Dropout(0.5))\n",
    "        self.layer4 = nn.Sequential(\n",
    "            nn.Linear(128, 64),\n",
    "            nn.BatchNorm1d(64),\n",
    "            nn.ReLU(),\n",
    "            nn.Dropout(0.5))\n",
    "        self.layer5 = nn.Sequential(\n",
    "            nn.Linear(64, 32),\n",
    "            nn.BatchNorm1d(32),\n",
    "            nn.ReLU(),\n",
    "            nn.Dropout(0.5))\n",
    "        self.layer6 = nn.Sequential(\n",
    "            nn.Linear(32, 16),\n",
    "            nn.BatchNorm1d(16),\n",
    "            nn.ReLU(),\n",
    "            nn.Dropout(0.5))\n",
    "        self.layer7 = nn.Sequential(\n",
    "            nn.Linear(16, 8),\n",
    "            nn.BatchNorm1d(8),\n",
    "            nn.ReLU(),\n",
    "            nn.Dropout(0.5))\n",
    "        self.outputlayer = nn.Sequential(\n",
    "            nn.Linear(8, 1),\n",
    "        )\n",
    "\n",
    "    def forward(self, x):\n",
    "        out = self.layer1(x)\n",
    "        out = self.layer2(out)\n",
    "        out = self.layer3(out)\n",
    "        out = self.layer4(out)\n",
    "        out = self.layer5(out)\n",
    "        out = self.layer6(out)\n",
    "        out = self.layer7(out)\n",
    "        out = self.outputlayer(out)\n",
    "        return torch.flatten(out)"
   ]
  },
  {
   "cell_type": "markdown",
   "id": "3838daf2",
   "metadata": {},
   "source": [
    "We initialize a model using the class defined above."
   ]
  },
  {
   "cell_type": "code",
   "execution_count": 26,
   "id": "02776eb8-f29b-4770-852f-5b6f43e01525",
   "metadata": {
    "tags": []
   },
   "outputs": [
    {
     "name": "stdout",
     "output_type": "stream",
     "text": [
      "tensor([-0.0966, -0.9240, -1.2945, -0.3279,  0.2561, -0.5795,  0.0235, -0.5030,\n",
      "        -0.8238, -0.2184, -0.2184, -0.8964, -0.4281,  0.3016, -0.5456,  0.7453,\n",
      "         0.5584, -0.3350,  0.1234, -0.1815, -0.9809, -0.5860, -0.1515, -0.6177,\n",
      "        -0.6035, -0.0818, -0.2633, -0.3629, -0.2184,  0.7625, -0.2550, -0.2318,\n",
      "        -0.1654,  0.1180, -1.1826, -0.4995, -0.1877, -0.0274, -0.2224,  0.1205,\n",
      "        -0.1418, -0.1911, -0.2995, -0.9049,  0.0952, -0.1273, -0.4202, -0.0726,\n",
      "        -0.7249,  1.1975, -0.2687, -0.2969,  0.0779, -0.5054,  0.6880, -0.3274,\n",
      "        -0.2580, -0.1673, -0.2829, -0.5936, -0.3913, -0.4611, -0.1235, -0.3667],\n",
      "       grad_fn=<ReshapeAliasBackward0>)\n"
     ]
    }
   ],
   "source": [
    "model = SimpleNN().to(device)\n",
    "first_batch = next(iter(train_dl_1))\n",
    "first_batch = first_batch[0].to(device)\n",
    "print(model(first_batch))"
   ]
  },
  {
   "cell_type": "code",
   "execution_count": 27,
   "id": "c8539ae5-d49f-4f7a-9c28-b90940334f55",
   "metadata": {
    "tags": []
   },
   "outputs": [
    {
     "name": "stdout",
     "output_type": "stream",
     "text": [
      "tensor([-2.7945e-01,  7.3268e-02, -2.7796e-01, -2.9413e-01, -1.8846e-01,\n",
      "         2.4283e-01, -2.1691e-01,  8.1584e-01, -4.2839e-01,  2.3840e-01,\n",
      "        -4.4936e-01, -4.6091e-01, -2.9413e-01, -1.5240e-02, -5.9318e-01,\n",
      "        -4.5292e-01,  5.6512e-02, -2.9413e-01, -5.8850e-01, -3.6651e-01,\n",
      "        -2.9413e-01, -3.9952e-02, -6.2787e-01, -2.9413e-01, -2.9413e-01,\n",
      "        -1.9489e-02, -2.1000e-01, -3.0223e-01, -3.0874e-01, -1.5252e-01,\n",
      "         1.2859e-01, -3.0636e-01, -4.0357e-01,  1.5778e-01, -4.9484e-01,\n",
      "        -3.1515e-01, -3.1218e-01, -2.3305e-01, -3.0146e-01,  9.9066e-04,\n",
      "         1.6189e-01, -5.0070e-01, -1.5024e+00, -5.8005e-01, -1.4849e-01,\n",
      "        -2.4095e-01, -3.9343e-01, -4.3956e-01, -6.8936e-01, -2.9413e-01,\n",
      "        -2.7530e+00, -3.5560e-01,  1.7385e-01,  2.6684e-01, -3.8820e-01,\n",
      "        -1.9944e-01, -1.1492e-02,  6.4145e-01, -2.9413e-01, -9.5870e-01,\n",
      "        -3.8460e-01, -2.9413e-01, -7.0394e-01, -1.3974e-01],\n",
      "       grad_fn=<ReshapeAliasBackward0>)\n"
     ]
    }
   ],
   "source": [
    "model = SimpleNN().to(device)\n",
    "first_batch = next(iter(train_dl_2))\n",
    "first_batch = first_batch[0].to(device)\n",
    "print(model(first_batch))"
   ]
  },
  {
   "cell_type": "markdown",
   "id": "e4af20c9",
   "metadata": {},
   "source": [
    "This train function will be used to train the neural network and later also the regression model. It outputs a list of the achieved training and validation losses."
   ]
  },
  {
   "cell_type": "code",
   "execution_count": 28,
   "id": "f08151ec-c804-4a4d-a7ba-ffff9eca0c6d",
   "metadata": {
    "tags": []
   },
   "outputs": [],
   "source": [
    "def train(model, train_dl, val_dl , epochs, optimizer, loss_func):\n",
    "    loss_train_list = []\n",
    "    loss_valid_list = []\n",
    "    print(\"\\tepoch\\t|\\ttrain loss\\t|\\tval loss\")\n",
    "    for epoch in range(epochs):\n",
    "        model.train()\n",
    "        total_loss = 0\n",
    "\n",
    "        for X, y in train_dl:\n",
    "            optimizer.zero_grad()\n",
    "            X = X.to(device)\n",
    "            y = y.to(device)\n",
    "            preds = model(X)\n",
    "            loss = loss_func(preds, y)\n",
    "            loss.backward()\n",
    "            optimizer.step()\n",
    "            total_loss = total_loss + loss.item()\n",
    "\n",
    "        total_loss_val = 0\n",
    "        model.eval()\n",
    "        with torch.no_grad():\n",
    "            for X_val, y_val in val_dl:\n",
    "                X_val = X_val.to(device)\n",
    "                y_val = y_val.to(device)\n",
    "                preds = model(X_val)\n",
    "                loss_val = loss_func(preds, y_val)\n",
    "                total_loss_val = total_loss_val + loss_val.item()\n",
    "\n",
    "        print(\"--------------------------------------------------------------\")\n",
    "        print(f\"\\t{epoch + 1}\\t|\\t{total_loss:.4f}\\t\\t|\\t{total_loss_val:.4f}\")\n",
    "        loss_train_list.append(total_loss)\n",
    "        loss_valid_list.append(total_loss_val)\n",
    "    \n",
    "    return loss_train_list, loss_valid_list"
   ]
  },
  {
   "cell_type": "markdown",
   "id": "44392ec5",
   "metadata": {},
   "source": [
    "We now instantiate the first model with a neural network. We define the number of epochs, the learning rate, the loss function and the optimizer. We then train the neural network and display the loss per epoch."
   ]
  },
  {
   "cell_type": "code",
   "execution_count": 29,
   "id": "8e896a8e-57d4-4cd0-968b-c7a5ac8489cc",
   "metadata": {
    "tags": []
   },
   "outputs": [
    {
     "name": "stdout",
     "output_type": "stream",
     "text": [
      "\tepoch\t|\ttrain loss\t|\tval loss\n",
      "--------------------------------------------------------------\n",
      "\t1\t|\t14.7794\t\t|\t0.5547\n",
      "--------------------------------------------------------------\n",
      "\t2\t|\t3.9885\t\t|\t0.5038\n",
      "--------------------------------------------------------------\n",
      "\t3\t|\t2.5993\t\t|\t0.4821\n",
      "--------------------------------------------------------------\n",
      "\t4\t|\t2.1536\t\t|\t0.4823\n",
      "--------------------------------------------------------------\n",
      "\t5\t|\t2.0217\t\t|\t0.4819\n",
      "--------------------------------------------------------------\n",
      "\t6\t|\t1.9934\t\t|\t0.4783\n",
      "--------------------------------------------------------------\n",
      "\t7\t|\t1.9301\t\t|\t0.4831\n",
      "--------------------------------------------------------------\n",
      "\t8\t|\t1.9225\t\t|\t0.4808\n",
      "--------------------------------------------------------------\n",
      "\t9\t|\t1.9375\t\t|\t0.4779\n",
      "--------------------------------------------------------------\n",
      "\t10\t|\t1.9349\t\t|\t0.4729\n",
      "--------------------------------------------------------------\n",
      "\t11\t|\t1.9129\t\t|\t0.4726\n",
      "--------------------------------------------------------------\n",
      "\t12\t|\t1.9060\t\t|\t0.4852\n",
      "--------------------------------------------------------------\n",
      "\t13\t|\t1.9269\t\t|\t0.4713\n",
      "--------------------------------------------------------------\n",
      "\t14\t|\t1.9889\t\t|\t0.4749\n",
      "--------------------------------------------------------------\n",
      "\t15\t|\t1.9116\t\t|\t0.4732\n",
      "--------------------------------------------------------------\n",
      "\t16\t|\t1.9111\t\t|\t0.4712\n",
      "--------------------------------------------------------------\n",
      "\t17\t|\t1.9014\t\t|\t0.4716\n",
      "--------------------------------------------------------------\n",
      "\t18\t|\t1.9477\t\t|\t0.4675\n",
      "--------------------------------------------------------------\n",
      "\t19\t|\t1.9186\t\t|\t0.4737\n",
      "--------------------------------------------------------------\n",
      "\t20\t|\t1.9089\t\t|\t0.4709\n",
      "--------------------------------------------------------------\n",
      "\t21\t|\t1.9109\t\t|\t0.4871\n",
      "--------------------------------------------------------------\n",
      "\t22\t|\t1.9073\t\t|\t0.4748\n",
      "--------------------------------------------------------------\n",
      "\t23\t|\t1.9219\t\t|\t0.4737\n",
      "--------------------------------------------------------------\n",
      "\t24\t|\t1.8969\t\t|\t0.4740\n",
      "--------------------------------------------------------------\n",
      "\t25\t|\t1.9347\t\t|\t0.4715\n",
      "--------------------------------------------------------------\n",
      "\t26\t|\t1.8942\t\t|\t0.4727\n",
      "--------------------------------------------------------------\n",
      "\t27\t|\t1.8961\t\t|\t0.4767\n",
      "--------------------------------------------------------------\n",
      "\t28\t|\t1.9133\t\t|\t0.4643\n",
      "--------------------------------------------------------------\n",
      "\t29\t|\t1.8957\t\t|\t0.4725\n",
      "--------------------------------------------------------------\n",
      "\t30\t|\t1.9327\t\t|\t0.4690\n",
      "--------------------------------------------------------------\n",
      "\t31\t|\t1.8942\t\t|\t0.4745\n",
      "--------------------------------------------------------------\n",
      "\t32\t|\t1.8976\t\t|\t0.4718\n",
      "--------------------------------------------------------------\n",
      "\t33\t|\t1.8897\t\t|\t0.4625\n",
      "--------------------------------------------------------------\n",
      "\t34\t|\t1.8902\t\t|\t0.4601\n",
      "--------------------------------------------------------------\n",
      "\t35\t|\t1.8788\t\t|\t0.4606\n",
      "--------------------------------------------------------------\n",
      "\t36\t|\t1.8492\t\t|\t0.4444\n",
      "--------------------------------------------------------------\n",
      "\t37\t|\t1.8519\t\t|\t0.4388\n",
      "--------------------------------------------------------------\n",
      "\t38\t|\t1.8255\t\t|\t0.4385\n",
      "--------------------------------------------------------------\n",
      "\t39\t|\t1.8041\t\t|\t0.4237\n",
      "--------------------------------------------------------------\n",
      "\t40\t|\t1.8002\t\t|\t0.4101\n",
      "--------------------------------------------------------------\n",
      "\t41\t|\t1.7850\t\t|\t0.4213\n",
      "--------------------------------------------------------------\n",
      "\t42\t|\t1.7791\t\t|\t0.4027\n",
      "--------------------------------------------------------------\n",
      "\t43\t|\t1.7518\t\t|\t0.4099\n",
      "--------------------------------------------------------------\n",
      "\t44\t|\t1.7845\t\t|\t0.3970\n",
      "--------------------------------------------------------------\n",
      "\t45\t|\t1.7599\t\t|\t0.4013\n",
      "--------------------------------------------------------------\n",
      "\t46\t|\t1.7289\t\t|\t0.3976\n",
      "--------------------------------------------------------------\n",
      "\t47\t|\t1.7053\t\t|\t0.3882\n",
      "--------------------------------------------------------------\n",
      "\t48\t|\t1.7351\t\t|\t0.3947\n",
      "--------------------------------------------------------------\n",
      "\t49\t|\t1.6993\t\t|\t0.3915\n",
      "--------------------------------------------------------------\n",
      "\t50\t|\t1.6917\t\t|\t0.3918\n"
     ]
    }
   ],
   "source": [
    "model_1 = SimpleNN().to(device)\n",
    "epochs = 50\n",
    "learning_rate = 0.002\n",
    "loss_func = nn.MSELoss()\n",
    "optimizer = torch.optim.Adam(model_1.parameters(), lr = learning_rate)\n",
    "loss_training_1, loss_validation_1 = train(model_1, train_dl_1, valid_dl_1, epochs, optimizer, loss_func)"
   ]
  },
  {
   "cell_type": "markdown",
   "id": "7dd6dbec",
   "metadata": {},
   "source": [
    "Additionally we plot the losses in a graph."
   ]
  },
  {
   "cell_type": "code",
   "execution_count": 47,
   "id": "e3a47ba8-12a8-4b81-9597-6d669f0dd085",
   "metadata": {},
   "outputs": [
    {
     "data": {
      "image/png": "[encoded data removed]",
      "text/plain": [
       "<Figure size 640x480 with 1 Axes>"
      ]
     },
     "metadata": {},
     "output_type": "display_data"
    }
   ],
   "source": [
    "fig, ax1 = plt.subplots()\n",
    "ax1.plot(loss_training_1, color='red', label='Training Loss')\n",
    "ax1.plot(loss_validation_1, color='blue', label='Validation Loss')\n",
    "ax1.set_xlabel('Epoch')\n",
    "ax1.set_ylabel('MSE')\n",
    "ax1.set_ylim([0, 8])\n",
    "ax1.legend()\n",
    "plt.title(\"Loss Development of Neural Network for Site 1\")\n",
    "fig.tight_layout()\n",
    "plt.savefig('../plots/loss_development_of_neural_network_for_site_1.png', dpi = 600)\n",
    "plt.show()"
   ]
  },
  {
   "cell_type": "markdown",
   "id": "906789f6",
   "metadata": {},
   "source": [
    "We now repeat this process for the second site."
   ]
  },
  {
   "cell_type": "code",
   "execution_count": 31,
   "id": "d652d1ed-9e81-4ecc-a16b-f4119bf9bf4c",
   "metadata": {},
   "outputs": [
    {
     "name": "stdout",
     "output_type": "stream",
     "text": [
      "\tepoch\t|\ttrain loss\t|\tval loss\n",
      "--------------------------------------------------------------\n",
      "\t1\t|\t7.4098\t\t|\t0.4245\n",
      "--------------------------------------------------------------\n",
      "\t2\t|\t1.9518\t\t|\t0.3720\n",
      "--------------------------------------------------------------\n",
      "\t3\t|\t1.4641\t\t|\t0.3606\n",
      "--------------------------------------------------------------\n",
      "\t4\t|\t1.3542\t\t|\t0.3595\n",
      "--------------------------------------------------------------\n",
      "\t5\t|\t1.3130\t\t|\t0.3594\n",
      "--------------------------------------------------------------\n",
      "\t6\t|\t1.2963\t\t|\t0.3586\n",
      "--------------------------------------------------------------\n",
      "\t7\t|\t1.2877\t\t|\t0.3588\n",
      "--------------------------------------------------------------\n",
      "\t8\t|\t1.2871\t\t|\t0.3593\n",
      "--------------------------------------------------------------\n",
      "\t9\t|\t1.2817\t\t|\t0.3588\n",
      "--------------------------------------------------------------\n",
      "\t10\t|\t1.2805\t\t|\t0.3592\n",
      "--------------------------------------------------------------\n",
      "\t11\t|\t1.2819\t\t|\t0.3602\n",
      "--------------------------------------------------------------\n",
      "\t12\t|\t1.2938\t\t|\t0.3603\n",
      "--------------------------------------------------------------\n",
      "\t13\t|\t1.2850\t\t|\t0.3587\n",
      "--------------------------------------------------------------\n",
      "\t14\t|\t1.2878\t\t|\t0.3598\n",
      "--------------------------------------------------------------\n",
      "\t15\t|\t1.2834\t\t|\t0.3604\n",
      "--------------------------------------------------------------\n",
      "\t16\t|\t1.2835\t\t|\t0.3597\n",
      "--------------------------------------------------------------\n",
      "\t17\t|\t1.2807\t\t|\t0.3590\n",
      "--------------------------------------------------------------\n",
      "\t18\t|\t1.2838\t\t|\t0.3594\n",
      "--------------------------------------------------------------\n",
      "\t19\t|\t1.2830\t\t|\t0.3607\n",
      "--------------------------------------------------------------\n",
      "\t20\t|\t1.2796\t\t|\t0.3583\n",
      "--------------------------------------------------------------\n",
      "\t21\t|\t1.2813\t\t|\t0.3588\n",
      "--------------------------------------------------------------\n",
      "\t22\t|\t1.2810\t\t|\t0.3617\n",
      "--------------------------------------------------------------\n",
      "\t23\t|\t1.2806\t\t|\t0.3586\n",
      "--------------------------------------------------------------\n",
      "\t24\t|\t1.2800\t\t|\t0.3582\n",
      "--------------------------------------------------------------\n",
      "\t25\t|\t1.2837\t\t|\t0.3571\n",
      "--------------------------------------------------------------\n",
      "\t26\t|\t1.2778\t\t|\t0.3571\n",
      "--------------------------------------------------------------\n",
      "\t27\t|\t1.2799\t\t|\t0.3583\n",
      "--------------------------------------------------------------\n",
      "\t28\t|\t1.2758\t\t|\t0.3572\n",
      "--------------------------------------------------------------\n",
      "\t29\t|\t1.2787\t\t|\t0.3519\n",
      "--------------------------------------------------------------\n",
      "\t30\t|\t1.2692\t\t|\t0.3470\n",
      "--------------------------------------------------------------\n",
      "\t31\t|\t1.2595\t\t|\t0.3443\n",
      "--------------------------------------------------------------\n",
      "\t32\t|\t1.2594\t\t|\t0.3427\n",
      "--------------------------------------------------------------\n",
      "\t33\t|\t1.2596\t\t|\t0.3389\n",
      "--------------------------------------------------------------\n",
      "\t34\t|\t1.2459\t\t|\t0.3353\n",
      "--------------------------------------------------------------\n",
      "\t35\t|\t1.2454\t\t|\t0.3362\n",
      "--------------------------------------------------------------\n",
      "\t36\t|\t1.2312\t\t|\t0.3288\n",
      "--------------------------------------------------------------\n",
      "\t37\t|\t1.2314\t\t|\t0.3290\n",
      "--------------------------------------------------------------\n",
      "\t38\t|\t1.2405\t\t|\t0.3284\n",
      "--------------------------------------------------------------\n",
      "\t39\t|\t1.2129\t\t|\t0.3218\n",
      "--------------------------------------------------------------\n",
      "\t40\t|\t1.2125\t\t|\t0.3187\n",
      "--------------------------------------------------------------\n",
      "\t41\t|\t1.2078\t\t|\t0.3248\n",
      "--------------------------------------------------------------\n",
      "\t42\t|\t1.2063\t\t|\t0.3178\n",
      "--------------------------------------------------------------\n",
      "\t43\t|\t1.2029\t\t|\t0.3185\n",
      "--------------------------------------------------------------\n",
      "\t44\t|\t1.2006\t\t|\t0.3137\n",
      "--------------------------------------------------------------\n",
      "\t45\t|\t1.1958\t\t|\t0.3192\n",
      "--------------------------------------------------------------\n",
      "\t46\t|\t1.1903\t\t|\t0.3154\n",
      "--------------------------------------------------------------\n",
      "\t47\t|\t1.1850\t\t|\t0.3239\n",
      "--------------------------------------------------------------\n",
      "\t48\t|\t1.1895\t\t|\t0.3167\n",
      "--------------------------------------------------------------\n",
      "\t49\t|\t1.1782\t\t|\t0.3117\n",
      "--------------------------------------------------------------\n",
      "\t50\t|\t1.1871\t\t|\t0.3147\n"
     ]
    }
   ],
   "source": [
    "model_2 = SimpleNN().to(device)\n",
    "epochs = 50\n",
    "learning_rate = 0.002\n",
    "loss_func = nn.MSELoss()\n",
    "optimizer = torch.optim.Adam(model_2.parameters(), lr = learning_rate)\n",
    "loss_training_2, loss_validation_2 = train(model_2, train_dl_2, valid_dl_2, epochs, optimizer, loss_func)"
   ]
  },
  {
   "cell_type": "code",
   "execution_count": 48,
   "id": "e67869be-66d7-4182-8ddc-19af94bfd1c8",
   "metadata": {
    "tags": []
   },
   "outputs": [
    {
     "data": {
      "image/png": "[encoded data removed]",
      "text/plain": [
       "<Figure size 640x480 with 1 Axes>"
      ]
     },
     "metadata": {},
     "output_type": "display_data"
    }
   ],
   "source": [
    "fig, ax1 = plt.subplots()\n",
    "ax1.plot(loss_training_2, color='red', label='Training Loss')\n",
    "ax1.plot(loss_validation_2, color='blue', label='Validation Loss')\n",
    "ax1.set_xlabel('Epoch')\n",
    "ax1.set_ylabel('MSE')\n",
    "ax1.set_ylim([0, 8])\n",
    "ax1.legend()\n",
    "plt.title(\"Loss Development of Neural Network for Site 2\")\n",
    "fig.tight_layout()\n",
    "plt.savefig('../plots/loss_development_of_neural_network_for_site_2.png', dpi = 600)\n",
    "plt.show()"
   ]
  },
  {
   "cell_type": "markdown",
   "id": "ca985332",
   "metadata": {},
   "source": [
    "With this function, we calculate the loss for the model on the testing set. This metric will be used to compare the performance of the neural network to the performance of the regression model."
   ]
  },
  {
   "cell_type": "code",
   "execution_count": 33,
   "id": "941771b1-8d1c-4481-9a61-c6d61bbfe5a3",
   "metadata": {
    "tags": []
   },
   "outputs": [],
   "source": [
    "def test(model, test_dl, loss_func):\n",
    "    total_loss_test = 0\n",
    "    model.eval()\n",
    "    with torch.no_grad():\n",
    "        for X_test, y_test in test_dl:\n",
    "            X_test = X_test.to(device)\n",
    "            y_test = y_test.to(device)\n",
    "            preds = model(X_test)\n",
    "            loss_test = loss_func(preds, y_test)\n",
    "            total_loss_test = total_loss_test + loss_test.item()\n",
    "    \n",
    "    return total_loss_test"
   ]
  },
  {
   "cell_type": "code",
   "execution_count": 34,
   "id": "0a859a1d-e033-43a2-ba49-79ba8ad18bed",
   "metadata": {
    "tags": []
   },
   "outputs": [
    {
     "name": "stdout",
     "output_type": "stream",
     "text": [
      "Test loss 1st site: 0.7438925472088158\n",
      "Test loss 2nd site: 0.5867028483189642\n"
     ]
    }
   ],
   "source": [
    "loss_func = nn.MSELoss()\n",
    "loss_test_1 = test(model_1, test_dl_1, loss_func)\n",
    "loss_test_2 = test(model_2, test_dl_2, loss_func)\n",
    "print(\"Test loss 1st site:\", loss_test_1)\n",
    "print(\"Test loss 2nd site:\", loss_test_2)"
   ]
  },
  {
   "cell_type": "markdown",
   "id": "b47b3f10",
   "metadata": {},
   "source": [
    "### Linear Regression"
   ]
  },
  {
   "cell_type": "markdown",
   "id": "a55ba523",
   "metadata": {},
   "source": [
    "Now that we know how the neural network performs, we set up a simple LinearRegressionModel in the same way. We define a LinearRegressionModel class, which includes only a single linear layer and is therefore very explainable."
   ]
  },
  {
   "cell_type": "code",
   "execution_count": 35,
   "id": "15782d20-e531-45ad-bcfd-14550d06ac5f",
   "metadata": {},
   "outputs": [],
   "source": [
    "class LinearRegressionModel(nn.Module):\n",
    "    def __init__(self, input_dim, output_dim):\n",
    "        super(LinearRegressionModel, self).__init__()\n",
    "        self.linear = nn.Linear(input_dim, output_dim)\n",
    "\n",
    "    def forward(self, x):\n",
    "        out = self.linear(x)\n",
    "        return torch.flatten(out)"
   ]
  },
  {
   "cell_type": "code",
   "execution_count": 36,
   "id": "7d1d41dc-6839-46b2-90aa-b982d1a34e68",
   "metadata": {},
   "outputs": [
    {
     "name": "stdout",
     "output_type": "stream",
     "text": [
      "\tepoch\t|\ttrain loss\t|\tval loss\n",
      "--------------------------------------------------------------\n",
      "\t1\t|\t2.7211\t\t|\t0.5866\n",
      "--------------------------------------------------------------\n",
      "\t2\t|\t2.2764\t\t|\t0.5110\n",
      "--------------------------------------------------------------\n",
      "\t3\t|\t2.0410\t\t|\t0.4660\n",
      "--------------------------------------------------------------\n",
      "\t4\t|\t1.8860\t\t|\t0.4454\n",
      "--------------------------------------------------------------\n",
      "\t5\t|\t1.8276\t\t|\t0.4307\n",
      "--------------------------------------------------------------\n",
      "\t6\t|\t1.7680\t\t|\t0.4248\n",
      "--------------------------------------------------------------\n",
      "\t7\t|\t1.7573\t\t|\t0.4102\n",
      "--------------------------------------------------------------\n",
      "\t8\t|\t1.7176\t\t|\t0.4097\n",
      "--------------------------------------------------------------\n",
      "\t9\t|\t1.7519\t\t|\t0.4172\n",
      "--------------------------------------------------------------\n",
      "\t10\t|\t1.7330\t\t|\t0.4080\n",
      "--------------------------------------------------------------\n",
      "\t11\t|\t1.6946\t\t|\t0.4079\n",
      "--------------------------------------------------------------\n",
      "\t12\t|\t1.6923\t\t|\t0.4165\n",
      "--------------------------------------------------------------\n",
      "\t13\t|\t1.6942\t\t|\t0.4040\n",
      "--------------------------------------------------------------\n",
      "\t14\t|\t1.7116\t\t|\t0.3993\n",
      "--------------------------------------------------------------\n",
      "\t15\t|\t1.6869\t\t|\t0.4081\n",
      "--------------------------------------------------------------\n",
      "\t16\t|\t1.6844\t\t|\t0.4016\n",
      "--------------------------------------------------------------\n",
      "\t17\t|\t1.6996\t\t|\t0.4070\n",
      "--------------------------------------------------------------\n",
      "\t18\t|\t1.6831\t\t|\t0.4059\n",
      "--------------------------------------------------------------\n",
      "\t19\t|\t1.6808\t\t|\t0.4063\n",
      "--------------------------------------------------------------\n",
      "\t20\t|\t1.6765\t\t|\t0.3995\n",
      "--------------------------------------------------------------\n",
      "\t21\t|\t1.7038\t\t|\t0.4022\n",
      "--------------------------------------------------------------\n",
      "\t22\t|\t1.6785\t\t|\t0.4003\n",
      "--------------------------------------------------------------\n",
      "\t23\t|\t1.6946\t\t|\t0.4048\n",
      "--------------------------------------------------------------\n",
      "\t24\t|\t1.6784\t\t|\t0.4045\n",
      "--------------------------------------------------------------\n",
      "\t25\t|\t1.6778\t\t|\t0.4049\n",
      "--------------------------------------------------------------\n",
      "\t26\t|\t1.6794\t\t|\t0.3995\n",
      "--------------------------------------------------------------\n",
      "\t27\t|\t1.6901\t\t|\t0.3993\n",
      "--------------------------------------------------------------\n",
      "\t28\t|\t1.7038\t\t|\t0.4063\n",
      "--------------------------------------------------------------\n",
      "\t29\t|\t1.6926\t\t|\t0.4098\n",
      "--------------------------------------------------------------\n",
      "\t30\t|\t1.6747\t\t|\t0.4073\n",
      "--------------------------------------------------------------\n",
      "\t31\t|\t1.6756\t\t|\t0.4051\n",
      "--------------------------------------------------------------\n",
      "\t32\t|\t1.6897\t\t|\t0.3982\n",
      "--------------------------------------------------------------\n",
      "\t33\t|\t1.6726\t\t|\t0.4074\n",
      "--------------------------------------------------------------\n",
      "\t34\t|\t1.6752\t\t|\t0.4122\n",
      "--------------------------------------------------------------\n",
      "\t35\t|\t1.7079\t\t|\t0.3993\n",
      "--------------------------------------------------------------\n",
      "\t36\t|\t1.6793\t\t|\t0.4061\n",
      "--------------------------------------------------------------\n",
      "\t37\t|\t1.6776\t\t|\t0.4137\n",
      "--------------------------------------------------------------\n",
      "\t38\t|\t1.7027\t\t|\t0.3996\n",
      "--------------------------------------------------------------\n",
      "\t39\t|\t1.6752\t\t|\t0.3987\n",
      "--------------------------------------------------------------\n",
      "\t40\t|\t1.6752\t\t|\t0.4048\n",
      "--------------------------------------------------------------\n",
      "\t41\t|\t1.6784\t\t|\t0.4085\n",
      "--------------------------------------------------------------\n",
      "\t42\t|\t1.6926\t\t|\t0.3989\n",
      "--------------------------------------------------------------\n",
      "\t43\t|\t1.6738\t\t|\t0.4035\n",
      "--------------------------------------------------------------\n",
      "\t44\t|\t1.6750\t\t|\t0.4124\n",
      "--------------------------------------------------------------\n",
      "\t45\t|\t1.7286\t\t|\t0.4145\n",
      "--------------------------------------------------------------\n",
      "\t46\t|\t1.6839\t\t|\t0.4079\n",
      "--------------------------------------------------------------\n",
      "\t47\t|\t1.6765\t\t|\t0.4000\n",
      "--------------------------------------------------------------\n",
      "\t48\t|\t1.6770\t\t|\t0.4050\n",
      "--------------------------------------------------------------\n",
      "\t49\t|\t1.6866\t\t|\t0.4008\n",
      "--------------------------------------------------------------\n",
      "\t50\t|\t1.6773\t\t|\t0.4028\n"
     ]
    }
   ],
   "source": [
    "model_reg_1 = LinearRegressionModel(8, 1).to(device)\n",
    "epochs = 50\n",
    "learning_rate = 0.001\n",
    "loss_func = nn.MSELoss()\n",
    "optimizer = torch.optim.Adam(model_reg_1.parameters(), lr = learning_rate)\n",
    "loss_training_reg_1, loss_validation_reg_1 = train(model_reg_1, train_dl_1, valid_dl_1, epochs, optimizer, loss_func)"
   ]
  },
  {
   "cell_type": "code",
   "execution_count": 49,
   "id": "4a1cb17a",
   "metadata": {},
   "outputs": [
    {
     "data": {
      "image/png": "[encoded data removed]",
      "text/plain": [
       "<Figure size 640x480 with 1 Axes>"
      ]
     },
     "metadata": {},
     "output_type": "display_data"
    }
   ],
   "source": [
    "fig, ax1 = plt.subplots()\n",
    "ax1.plot(loss_training_reg_1, color='red', label='Training Loss')\n",
    "ax1.plot(loss_validation_reg_1, color='blue', label='Validation Loss')\n",
    "ax1.set_xlabel('Epoch')\n",
    "ax1.set_ylabel('MSE')\n",
    "ax1.set_ylim([0, 8])\n",
    "ax1.legend()\n",
    "plt.title(\"Loss Development of Linear Regression for Site 1\")\n",
    "fig.tight_layout()\n",
    "plt.savefig('../plots/loss_development_of_linear_regression_for_site_1.png', dpi = 600)\n",
    "plt.show()"
   ]
  },
  {
   "cell_type": "code",
   "execution_count": 38,
   "id": "2c2e7998",
   "metadata": {},
   "outputs": [
    {
     "name": "stdout",
     "output_type": "stream",
     "text": [
      "\tepoch\t|\ttrain loss\t|\tval loss\n",
      "--------------------------------------------------------------\n",
      "\t1\t|\t2.1137\t\t|\t0.4853\n",
      "--------------------------------------------------------------\n",
      "\t2\t|\t1.5301\t\t|\t0.3913\n",
      "--------------------------------------------------------------\n",
      "\t3\t|\t1.3156\t\t|\t0.3556\n",
      "--------------------------------------------------------------\n",
      "\t4\t|\t1.2552\t\t|\t0.3434\n",
      "--------------------------------------------------------------\n",
      "\t5\t|\t1.2262\t\t|\t0.3398\n",
      "--------------------------------------------------------------\n",
      "\t6\t|\t1.2246\t\t|\t0.3386\n",
      "--------------------------------------------------------------\n",
      "\t7\t|\t1.2198\t\t|\t0.3363\n",
      "--------------------------------------------------------------\n",
      "\t8\t|\t1.2182\t\t|\t0.3380\n",
      "--------------------------------------------------------------\n",
      "\t9\t|\t1.2158\t\t|\t0.3396\n",
      "--------------------------------------------------------------\n",
      "\t10\t|\t1.2220\t\t|\t0.3366\n",
      "--------------------------------------------------------------\n",
      "\t11\t|\t1.2192\t\t|\t0.3363\n",
      "--------------------------------------------------------------\n",
      "\t12\t|\t1.2192\t\t|\t0.3387\n",
      "--------------------------------------------------------------\n",
      "\t13\t|\t1.2185\t\t|\t0.3361\n",
      "--------------------------------------------------------------\n",
      "\t14\t|\t1.2186\t\t|\t0.3364\n",
      "--------------------------------------------------------------\n",
      "\t15\t|\t1.2161\t\t|\t0.3357\n",
      "--------------------------------------------------------------\n",
      "\t16\t|\t1.2167\t\t|\t0.3360\n",
      "--------------------------------------------------------------\n",
      "\t17\t|\t1.2183\t\t|\t0.3382\n",
      "--------------------------------------------------------------\n",
      "\t18\t|\t1.2180\t\t|\t0.3356\n",
      "--------------------------------------------------------------\n",
      "\t19\t|\t1.2191\t\t|\t0.3361\n",
      "--------------------------------------------------------------\n",
      "\t20\t|\t1.2258\t\t|\t0.3358\n",
      "--------------------------------------------------------------\n",
      "\t21\t|\t1.2158\t\t|\t0.3354\n",
      "--------------------------------------------------------------\n",
      "\t22\t|\t1.2204\t\t|\t0.3415\n",
      "--------------------------------------------------------------\n",
      "\t23\t|\t1.2162\t\t|\t0.3366\n",
      "--------------------------------------------------------------\n",
      "\t24\t|\t1.2151\t\t|\t0.3392\n",
      "--------------------------------------------------------------\n",
      "\t25\t|\t1.2186\t\t|\t0.3368\n",
      "--------------------------------------------------------------\n",
      "\t26\t|\t1.2235\t\t|\t0.3359\n",
      "--------------------------------------------------------------\n",
      "\t27\t|\t1.2170\t\t|\t0.3362\n",
      "--------------------------------------------------------------\n",
      "\t28\t|\t1.2194\t\t|\t0.3356\n",
      "--------------------------------------------------------------\n",
      "\t29\t|\t1.2155\t\t|\t0.3359\n",
      "--------------------------------------------------------------\n",
      "\t30\t|\t1.2155\t\t|\t0.3360\n",
      "--------------------------------------------------------------\n",
      "\t31\t|\t1.2201\t\t|\t0.3363\n",
      "--------------------------------------------------------------\n",
      "\t32\t|\t1.2163\t\t|\t0.3362\n",
      "--------------------------------------------------------------\n",
      "\t33\t|\t1.2194\t\t|\t0.3372\n",
      "--------------------------------------------------------------\n",
      "\t34\t|\t1.2194\t\t|\t0.3405\n",
      "--------------------------------------------------------------\n",
      "\t35\t|\t1.2172\t\t|\t0.3370\n",
      "--------------------------------------------------------------\n",
      "\t36\t|\t1.2171\t\t|\t0.3392\n",
      "--------------------------------------------------------------\n",
      "\t37\t|\t1.2193\t\t|\t0.3363\n",
      "--------------------------------------------------------------\n",
      "\t38\t|\t1.2211\t\t|\t0.3362\n",
      "--------------------------------------------------------------\n",
      "\t39\t|\t1.2179\t\t|\t0.3360\n",
      "--------------------------------------------------------------\n",
      "\t40\t|\t1.2164\t\t|\t0.3390\n",
      "--------------------------------------------------------------\n",
      "\t41\t|\t1.2205\t\t|\t0.3374\n",
      "--------------------------------------------------------------\n",
      "\t42\t|\t1.2181\t\t|\t0.3357\n",
      "--------------------------------------------------------------\n",
      "\t43\t|\t1.2223\t\t|\t0.3360\n",
      "--------------------------------------------------------------\n",
      "\t44\t|\t1.2198\t\t|\t0.3361\n",
      "--------------------------------------------------------------\n",
      "\t45\t|\t1.2179\t\t|\t0.3367\n",
      "--------------------------------------------------------------\n",
      "\t46\t|\t1.2209\t\t|\t0.3365\n",
      "--------------------------------------------------------------\n",
      "\t47\t|\t1.2183\t\t|\t0.3364\n",
      "--------------------------------------------------------------\n",
      "\t48\t|\t1.2179\t\t|\t0.3355\n",
      "--------------------------------------------------------------\n",
      "\t49\t|\t1.2162\t\t|\t0.3374\n",
      "--------------------------------------------------------------\n",
      "\t50\t|\t1.2223\t\t|\t0.3360\n"
     ]
    }
   ],
   "source": [
    "model_reg_2 = LinearRegressionModel(8, 1).to(device)\n",
    "epochs = 50\n",
    "learning_rate = 0.001\n",
    "loss_func = nn.MSELoss()\n",
    "optimizer = torch.optim.Adam(model_reg_2.parameters(), lr = learning_rate)\n",
    "loss_training_reg_2, loss_validation_reg_2 = train(model_reg_2, train_dl_2, valid_dl_2, epochs, optimizer, loss_func)"
   ]
  },
  {
   "cell_type": "code",
   "execution_count": 50,
   "id": "f0575e9a",
   "metadata": {},
   "outputs": [
    {
     "data": {
      "image/png": "[encoded data removed]",
      "text/plain": [
       "<Figure size 640x480 with 1 Axes>"
      ]
     },
     "metadata": {},
     "output_type": "display_data"
    }
   ],
   "source": [
    "fig, ax1 = plt.subplots()\n",
    "ax1.plot(loss_training_reg_2, color='red', label='Training Loss')\n",
    "ax1.plot(loss_validation_reg_2, color='blue', label='Validation Loss')\n",
    "ax1.set_xlabel('Epoch')\n",
    "ax1.set_ylabel('MSE')\n",
    "ax1.set_ylim([0, 8])\n",
    "ax1.legend()\n",
    "plt.title(\"Loss Development of Linear Regression for Site 2\")\n",
    "fig.tight_layout()\n",
    "plt.savefig('../plots/loss_development_of_linear_regression_for_site_2.png', dpi = 600)\n",
    "plt.show()"
   ]
  },
  {
   "cell_type": "code",
   "execution_count": 40,
   "id": "19c1e4ec-1749-4c13-aab2-bc1b90923108",
   "metadata": {},
   "outputs": [
    {
     "name": "stdout",
     "output_type": "stream",
     "text": [
      "Neural network test loss 1st site: 0.7438925472088158\n",
      "Neural network test loss 2nd site: 0.5867028483189642\n",
      "*******************************************************\n",
      "Linear regression test loss 1st site: 0.7366186701692641\n",
      "Linear regression test loss 2nd site: 0.5790197253227234\n"
     ]
    }
   ],
   "source": [
    "loss_func = nn.MSELoss()\n",
    "loss_test_reg_1 = test(model_reg_1, test_dl_1, loss_func)\n",
    "loss_test_reg_2 = test(model_reg_2, test_dl_2, loss_func)\n",
    "print(\"Neural network test loss 1st site:\", loss_test_1)\n",
    "print(\"Neural network test loss 2nd site:\", loss_test_2)\n",
    "print(\"*\"*55)\n",
    "print(\"Linear regression test loss 1st site:\", loss_test_reg_1)\n",
    "print(\"Linear regression test loss 2nd site:\", loss_test_reg_2)"
   ]
  },
  {
   "cell_type": "markdown",
   "id": "11d14f2d",
   "metadata": {},
   "source": [
    "### Polynomial Regression"
   ]
  },
  {
   "cell_type": "markdown",
   "id": "cd52ad94",
   "metadata": {},
   "source": [
    "As you can see, the performance of the linear regression model is very similar to the neural network, while being a lot simpler, faster, and more explainable. However, for the first site, the neural network slightly outperforms the linear model. Therefore, we also want to try out a Polynomial Regression model, which works exaxtly the same, except for the input being transformed by different magnitudes to allow to portray non-linear relationships between the input data and the prediction. This still results in a very interpretable model, and might boost the performance slightly."
   ]
  },
  {
   "cell_type": "markdown",
   "id": "abfc9ed1",
   "metadata": {},
   "source": [
    "We define a PolynomialRegressionModel in the same way as before. The model architecture does not change compared to the linear model, except for the number of input dimensions, because the input data is being input with different orders of magnitude."
   ]
  },
  {
   "cell_type": "code",
   "execution_count": 41,
   "id": "7ec1f2d7",
   "metadata": {},
   "outputs": [],
   "source": [
    "class PolynomialRegressionModel(nn.Module):\n",
    "    def __init__(self, input_dim, output_dim):\n",
    "        super(PolynomialRegressionModel, self).__init__()\n",
    "        self.linear = nn.Linear(input_dim*5, output_dim)\n",
    "\n",
    "    def forward(self, x):\n",
    "        x_poly = torch.cat((x, torch.pow(x, 2), torch.pow(x, 3), torch.pow(x, 4), torch.pow(x, 5) ), dim=1)\n",
    "                            #,torch.pow(x, 6), torch.pow(x, 7), torch.pow(x, 8), torch.pow(x, 9), torch.pow(x, 10)), dim=1)\n",
    "        out = self.linear(x_poly)\n",
    "        return torch.flatten(out)"
   ]
  },
  {
   "cell_type": "code",
   "execution_count": 42,
   "id": "09b9f977",
   "metadata": {},
   "outputs": [
    {
     "name": "stdout",
     "output_type": "stream",
     "text": [
      "\tepoch\t|\ttrain loss\t|\tval loss\n",
      "--------------------------------------------------------------\n",
      "\t1\t|\t2.1753\t\t|\t0.4557\n",
      "--------------------------------------------------------------\n",
      "\t2\t|\t1.7618\t\t|\t0.4425\n",
      "--------------------------------------------------------------\n",
      "\t3\t|\t1.7525\t\t|\t0.4250\n",
      "--------------------------------------------------------------\n",
      "\t4\t|\t1.7044\t\t|\t0.4195\n",
      "--------------------------------------------------------------\n",
      "\t5\t|\t1.7185\t\t|\t0.4128\n",
      "--------------------------------------------------------------\n",
      "\t6\t|\t1.7074\t\t|\t0.4135\n",
      "--------------------------------------------------------------\n",
      "\t7\t|\t1.7153\t\t|\t0.4139\n",
      "--------------------------------------------------------------\n",
      "\t8\t|\t1.6707\t\t|\t0.4028\n",
      "--------------------------------------------------------------\n",
      "\t9\t|\t1.6727\t\t|\t0.4026\n",
      "--------------------------------------------------------------\n",
      "\t10\t|\t1.6670\t\t|\t0.4034\n",
      "--------------------------------------------------------------\n",
      "\t11\t|\t1.6646\t\t|\t0.4035\n",
      "--------------------------------------------------------------\n",
      "\t12\t|\t1.6686\t\t|\t0.4027\n",
      "--------------------------------------------------------------\n",
      "\t13\t|\t1.6633\t\t|\t0.4048\n",
      "--------------------------------------------------------------\n",
      "\t14\t|\t1.6620\t\t|\t0.4042\n",
      "--------------------------------------------------------------\n",
      "\t15\t|\t1.6718\t\t|\t0.3973\n",
      "--------------------------------------------------------------\n",
      "\t16\t|\t1.6639\t\t|\t0.4183\n",
      "--------------------------------------------------------------\n",
      "\t17\t|\t1.6562\t\t|\t0.4042\n",
      "--------------------------------------------------------------\n",
      "\t18\t|\t1.6551\t\t|\t0.3985\n",
      "--------------------------------------------------------------\n",
      "\t19\t|\t1.6524\t\t|\t0.3951\n",
      "--------------------------------------------------------------\n",
      "\t20\t|\t1.6651\t\t|\t0.3990\n",
      "--------------------------------------------------------------\n",
      "\t21\t|\t1.6819\t\t|\t0.3982\n",
      "--------------------------------------------------------------\n",
      "\t22\t|\t1.6541\t\t|\t0.3961\n",
      "--------------------------------------------------------------\n",
      "\t23\t|\t1.6538\t\t|\t0.3995\n",
      "--------------------------------------------------------------\n",
      "\t24\t|\t1.6727\t\t|\t0.3997\n",
      "--------------------------------------------------------------\n",
      "\t25\t|\t1.6762\t\t|\t0.3957\n",
      "--------------------------------------------------------------\n",
      "\t26\t|\t1.6544\t\t|\t0.4052\n",
      "--------------------------------------------------------------\n",
      "\t27\t|\t1.6452\t\t|\t0.3992\n",
      "--------------------------------------------------------------\n",
      "\t28\t|\t1.6462\t\t|\t0.3944\n",
      "--------------------------------------------------------------\n",
      "\t29\t|\t1.6568\t\t|\t0.3959\n",
      "--------------------------------------------------------------\n",
      "\t30\t|\t1.6461\t\t|\t0.4055\n",
      "--------------------------------------------------------------\n",
      "\t31\t|\t1.6590\t\t|\t0.3943\n",
      "--------------------------------------------------------------\n",
      "\t32\t|\t1.6511\t\t|\t0.4105\n",
      "--------------------------------------------------------------\n",
      "\t33\t|\t1.6543\t\t|\t0.3996\n",
      "--------------------------------------------------------------\n",
      "\t34\t|\t1.6690\t\t|\t0.3952\n",
      "--------------------------------------------------------------\n",
      "\t35\t|\t1.6751\t\t|\t0.4036\n",
      "--------------------------------------------------------------\n",
      "\t36\t|\t1.7143\t\t|\t0.4021\n",
      "--------------------------------------------------------------\n",
      "\t37\t|\t1.6478\t\t|\t0.4065\n",
      "--------------------------------------------------------------\n",
      "\t38\t|\t1.6507\t\t|\t0.3963\n",
      "--------------------------------------------------------------\n",
      "\t39\t|\t1.6421\t\t|\t0.4061\n",
      "--------------------------------------------------------------\n",
      "\t40\t|\t1.6685\t\t|\t0.3947\n",
      "--------------------------------------------------------------\n",
      "\t41\t|\t1.6455\t\t|\t0.4001\n",
      "--------------------------------------------------------------\n",
      "\t42\t|\t1.6746\t\t|\t0.4016\n",
      "--------------------------------------------------------------\n",
      "\t43\t|\t1.7094\t\t|\t0.3962\n",
      "--------------------------------------------------------------\n",
      "\t44\t|\t1.6442\t\t|\t0.4007\n",
      "--------------------------------------------------------------\n",
      "\t45\t|\t1.6406\t\t|\t0.3976\n",
      "--------------------------------------------------------------\n",
      "\t46\t|\t1.6785\t\t|\t0.3923\n",
      "--------------------------------------------------------------\n",
      "\t47\t|\t1.6379\t\t|\t0.3943\n",
      "--------------------------------------------------------------\n",
      "\t48\t|\t1.6665\t\t|\t0.3915\n",
      "--------------------------------------------------------------\n",
      "\t49\t|\t1.6922\t\t|\t0.4004\n",
      "--------------------------------------------------------------\n",
      "\t50\t|\t1.6943\t\t|\t0.3972\n"
     ]
    }
   ],
   "source": [
    "model_reg_3 = PolynomialRegressionModel(8, 1).to(device)\n",
    "epochs = 50\n",
    "learning_rate = 0.001\n",
    "loss_func = nn.MSELoss()\n",
    "optimizer = torch.optim.Adam(model_reg_3.parameters(), lr = learning_rate)\n",
    "loss_training_reg_3, loss_validation_reg_3 = train(model_reg_3, train_dl_1, valid_dl_1, epochs, optimizer, loss_func)"
   ]
  },
  {
   "cell_type": "code",
   "execution_count": 51,
   "id": "b744444e",
   "metadata": {},
   "outputs": [
    {
     "data": {
      "image/png": "[encoded data removed]",
      "text/plain": [
       "<Figure size 640x480 with 1 Axes>"
      ]
     },
     "metadata": {},
     "output_type": "display_data"
    }
   ],
   "source": [
    "fig, ax1 = plt.subplots()\n",
    "ax1.plot(loss_training_reg_3, color='red', label='Training Loss')\n",
    "ax1.plot(loss_validation_reg_3, color='blue', label='Validation Loss')\n",
    "ax1.set_xlabel('Epoch')\n",
    "ax1.set_ylabel('MSE')\n",
    "ax1.set_ylim([0, 8])\n",
    "ax1.legend()\n",
    "plt.title(\"Loss Development of Polynomial Regression for Site 1\")\n",
    "fig.tight_layout()\n",
    "plt.savefig('../plots/loss_development_of_polynomial_regression_for_site_1.png', dpi = 600)\n",
    "plt.show()"
   ]
  },
  {
   "cell_type": "code",
   "execution_count": 44,
   "id": "d2f6c87c",
   "metadata": {},
   "outputs": [
    {
     "name": "stdout",
     "output_type": "stream",
     "text": [
      "\tepoch\t|\ttrain loss\t|\tval loss\n",
      "--------------------------------------------------------------\n",
      "\t1\t|\t2.2447\t\t|\t0.4233\n",
      "--------------------------------------------------------------\n",
      "\t2\t|\t1.3757\t\t|\t0.3680\n",
      "--------------------------------------------------------------\n",
      "\t3\t|\t1.2816\t\t|\t0.3558\n",
      "--------------------------------------------------------------\n",
      "\t4\t|\t1.2551\t\t|\t0.3480\n",
      "--------------------------------------------------------------\n",
      "\t5\t|\t1.2394\t\t|\t0.3450\n",
      "--------------------------------------------------------------\n",
      "\t6\t|\t1.2342\t\t|\t0.3460\n",
      "--------------------------------------------------------------\n",
      "\t7\t|\t1.2212\t\t|\t0.3401\n",
      "--------------------------------------------------------------\n",
      "\t8\t|\t1.2147\t\t|\t0.3381\n",
      "--------------------------------------------------------------\n",
      "\t9\t|\t1.2080\t\t|\t0.3377\n",
      "--------------------------------------------------------------\n",
      "\t10\t|\t1.2059\t\t|\t0.3373\n",
      "--------------------------------------------------------------\n",
      "\t11\t|\t1.2024\t\t|\t0.3354\n",
      "--------------------------------------------------------------\n",
      "\t12\t|\t1.1980\t\t|\t0.3339\n",
      "--------------------------------------------------------------\n",
      "\t13\t|\t1.2043\t\t|\t0.3376\n",
      "--------------------------------------------------------------\n",
      "\t14\t|\t1.2052\t\t|\t0.3336\n",
      "--------------------------------------------------------------\n",
      "\t15\t|\t1.1967\t\t|\t0.3333\n",
      "--------------------------------------------------------------\n",
      "\t16\t|\t1.1919\t\t|\t0.3324\n",
      "--------------------------------------------------------------\n",
      "\t17\t|\t1.1948\t\t|\t0.3332\n",
      "--------------------------------------------------------------\n",
      "\t18\t|\t1.1892\t\t|\t0.3329\n",
      "--------------------------------------------------------------\n",
      "\t19\t|\t1.1894\t\t|\t0.3310\n",
      "--------------------------------------------------------------\n",
      "\t20\t|\t1.1900\t\t|\t0.3313\n",
      "--------------------------------------------------------------\n",
      "\t21\t|\t1.1902\t\t|\t0.3302\n",
      "--------------------------------------------------------------\n",
      "\t22\t|\t1.1885\t\t|\t0.3292\n",
      "--------------------------------------------------------------\n",
      "\t23\t|\t1.1849\t\t|\t0.3305\n",
      "--------------------------------------------------------------\n",
      "\t24\t|\t1.1849\t\t|\t0.3327\n",
      "--------------------------------------------------------------\n",
      "\t25\t|\t1.1867\t\t|\t0.3312\n",
      "--------------------------------------------------------------\n",
      "\t26\t|\t1.1823\t\t|\t0.3282\n",
      "--------------------------------------------------------------\n",
      "\t27\t|\t1.1845\t\t|\t0.3289\n",
      "--------------------------------------------------------------\n",
      "\t28\t|\t1.1811\t\t|\t0.3298\n",
      "--------------------------------------------------------------\n",
      "\t29\t|\t1.1838\t\t|\t0.3307\n",
      "--------------------------------------------------------------\n",
      "\t30\t|\t1.1860\t\t|\t0.3291\n",
      "--------------------------------------------------------------\n",
      "\t31\t|\t1.1797\t\t|\t0.3304\n",
      "--------------------------------------------------------------\n",
      "\t32\t|\t1.1779\t\t|\t0.3274\n",
      "--------------------------------------------------------------\n",
      "\t33\t|\t1.1817\t\t|\t0.3267\n",
      "--------------------------------------------------------------\n",
      "\t34\t|\t1.1801\t\t|\t0.3314\n",
      "--------------------------------------------------------------\n",
      "\t35\t|\t1.1766\t\t|\t0.3265\n",
      "--------------------------------------------------------------\n",
      "\t36\t|\t1.1780\t\t|\t0.3305\n",
      "--------------------------------------------------------------\n",
      "\t37\t|\t1.1814\t\t|\t0.3263\n",
      "--------------------------------------------------------------\n",
      "\t38\t|\t1.1797\t\t|\t0.3263\n",
      "--------------------------------------------------------------\n",
      "\t39\t|\t1.1739\t\t|\t0.3262\n",
      "--------------------------------------------------------------\n",
      "\t40\t|\t1.1773\t\t|\t0.3271\n",
      "--------------------------------------------------------------\n",
      "\t41\t|\t1.1750\t\t|\t0.3263\n",
      "--------------------------------------------------------------\n",
      "\t42\t|\t1.1761\t\t|\t0.3275\n",
      "--------------------------------------------------------------\n",
      "\t43\t|\t1.1775\t\t|\t0.3269\n",
      "--------------------------------------------------------------\n",
      "\t44\t|\t1.1869\t\t|\t0.3251\n",
      "--------------------------------------------------------------\n",
      "\t45\t|\t1.1768\t\t|\t0.3263\n",
      "--------------------------------------------------------------\n",
      "\t46\t|\t1.1766\t\t|\t0.3272\n",
      "--------------------------------------------------------------\n",
      "\t47\t|\t1.1736\t\t|\t0.3255\n",
      "--------------------------------------------------------------\n",
      "\t48\t|\t1.1721\t\t|\t0.3296\n",
      "--------------------------------------------------------------\n",
      "\t49\t|\t1.1732\t\t|\t0.3274\n",
      "--------------------------------------------------------------\n",
      "\t50\t|\t1.1702\t\t|\t0.3268\n"
     ]
    }
   ],
   "source": [
    "model_reg_4 = PolynomialRegressionModel(8, 1).to(device)\n",
    "epochs = 50\n",
    "learning_rate = 0.001\n",
    "loss_func = nn.MSELoss()\n",
    "optimizer = torch.optim.Adam(model_reg_4.parameters(), lr = learning_rate)\n",
    "loss_training_reg_4, loss_validation_reg_4 = train(model_reg_4, train_dl_2, valid_dl_2, epochs, optimizer, loss_func)"
   ]
  },
  {
   "cell_type": "code",
   "execution_count": 52,
   "id": "326dd136-582d-406a-8a67-ca676ace9671",
   "metadata": {},
   "outputs": [
    {
     "data": {
      "image/png": "[encoded data removed]",
      "text/plain": [
       "<Figure size 640x480 with 1 Axes>"
      ]
     },
     "metadata": {},
     "output_type": "display_data"
    }
   ],
   "source": [
    "fig, ax1 = plt.subplots()\n",
    "ax1.plot(loss_training_reg_4, color='red', label='Training Loss')\n",
    "ax1.plot(loss_validation_reg_4, color='blue', label='Validation Loss')\n",
    "ax1.set_xlabel('Epoch')\n",
    "ax1.set_ylabel('MSE')\n",
    "ax1.set_ylim([0, 8])\n",
    "ax1.legend()\n",
    "plt.title(\"Loss Development of Polynomial Regression for Site 2\")\n",
    "fig.tight_layout()\n",
    "plt.savefig('../plots/loss_development_of_polynomial_regression_for_site_2.png', dpi = 600)\n",
    "plt.show()"
   ]
  },
  {
   "cell_type": "code",
   "execution_count": 53,
   "id": "eb926114",
   "metadata": {},
   "outputs": [
    {
     "name": "stdout",
     "output_type": "stream",
     "text": [
      "Neural network test loss 1st site: 0.7438925472088158\n",
      "Neural network test loss 2nd site: 0.5867028483189642\n",
      "*******************************************************\n",
      "Linear regression test loss 1st site: 0.7366186701692641\n",
      "Linear regression test loss 2nd site: 0.5790197253227234\n",
      "*******************************************************\n",
      "Polynomial regression test loss 1st site: 0.7088572923094034\n",
      "Polynomial regression test loss 2nd site: 0.6033891509287059\n"
     ]
    }
   ],
   "source": [
    "loss_func = nn.MSELoss()\n",
    "loss_test_reg_3 = test(model_reg_3, test_dl_1, loss_func)\n",
    "loss_test_reg_4 = test(model_reg_4, test_dl_2, loss_func)\n",
    "print(\"Neural network test loss 1st site:\", loss_test_1)\n",
    "print(\"Neural network test loss 2nd site:\", loss_test_2)\n",
    "print(\"*\"*55)\n",
    "print(\"Linear regression test loss 1st site:\", loss_test_reg_1)\n",
    "print(\"Linear regression test loss 2nd site:\", loss_test_reg_2)\n",
    "print(\"*\"*55)\n",
    "print(\"Polynomial regression test loss 1st site:\", loss_test_reg_3)\n",
    "print(\"Polynomial regression test loss 2nd site:\", loss_test_reg_4)"
   ]
  },
  {
   "cell_type": "code",
   "execution_count": 54,
   "id": "41a955e1",
   "metadata": {},
   "outputs": [
    {
     "name": "stdout",
     "output_type": "stream",
     "text": [
      "Neural network test loss 1st site: 0.7438925472088158\n",
      "Neural network test loss 2nd site: 0.5867028483189642\n",
      "*******************************************************\n",
      "Linear regression test loss 1st site: 0.7366186701692641\n",
      "Linear regression test loss 2nd site: 0.5790197253227234\n"
     ]
    }
   ],
   "source": [
    "print(\"Neural network test loss 1st site:\", loss_test_1)\n",
    "print(\"Neural network test loss 2nd site:\", loss_test_2)\n",
    "print(\"*\"*55)\n",
    "print(\"Linear regression test loss 1st site:\", loss_test_reg_1)\n",
    "print(\"Linear regression test loss 2nd site:\", loss_test_reg_2)"
   ]
  },
  {
   "cell_type": "markdown",
   "id": "7176b445",
   "metadata": {},
   "source": [
    "So, the model performance seems to be very similar. Therefore, we will argue to employ the Linear Regression model, as it performs equally good and is the fastest, simplest and most easily explainable."
   ]
  },
  {
   "cell_type": "markdown",
   "id": "1e442bc5",
   "metadata": {},
   "source": [
    "Let us print the weights of the linear regression, site 1:"
   ]
  },
  {
   "cell_type": "code",
   "execution_count": 58,
   "id": "14add3a6",
   "metadata": {
    "scrolled": true
   },
   "outputs": [
    {
     "name": "stdout",
     "output_type": "stream",
     "text": [
      "connection_month: 0.0052874451503157616\n",
      "connection_day: -0.003787705209106207\n",
      "connection_hour: -0.24217194318771362\n",
      "temperature: -0.014410912990570068\n",
      "pressure: -0.004087554290890694\n",
      "weather: 0.045620452612638474\n",
      "windspeed: 0.036312393844127655\n",
      "precipitation: -0.06425146758556366\n"
     ]
    }
   ],
   "source": [
    "feature_names = df_site_1.columns\n",
    "weights = model_reg_1.linear.weight.data[0].cpu().numpy()\n",
    "\n",
    "for feature, weight in zip(feature_names, weights):\n",
    "    print(f'{feature}: {weight}')\n"
   ]
  },
  {
   "cell_type": "markdown",
   "id": "46cf24ed",
   "metadata": {},
   "source": [
    "Site 2:"
   ]
  },
  {
   "cell_type": "code",
   "execution_count": 59,
   "id": "2c169c63",
   "metadata": {
    "scrolled": true
   },
   "outputs": [
    {
     "name": "stdout",
     "output_type": "stream",
     "text": [
      "connection_month: 0.023451903834939003\n",
      "connection_day: 0.004659086000174284\n",
      "connection_hour: -0.08461172878742218\n",
      "temperature: -0.007080324459820986\n",
      "pressure: -0.04800762981176376\n",
      "weather: -0.0018498190911486745\n",
      "windspeed: -0.044084955006837845\n",
      "precipitation: -0.018877575173974037\n"
     ]
    }
   ],
   "source": [
    "feature_names = df_site_2.columns\n",
    "weights = model_reg_2.linear.weight.data[0].cpu().numpy()\n",
    "\n",
    "for feature, weight in zip(feature_names, weights):\n",
    "    print(f'{feature}: {weight}')\n"
   ]
  },
  {
   "cell_type": "code",
   "execution_count": null,
   "id": "ce0354e4",
   "metadata": {},
   "outputs": [],
   "source": []
  }
 ],
 "metadata": {
  "kernelspec": {
   "display_name": "Python 3 (ipykernel)",
   "language": "python",
   "name": "python3"
  },
  "language_info": {
   "codemirror_mode": {
    "name": "ipython",
    "version": 3
   },
   "file_extension": ".py",
   "mimetype": "text/x-python",
   "name": "python",
   "nbconvert_exporter": "python",
   "pygments_lexer": "ipython3",
   "version": "3.9.18"
  }
 },
 "nbformat": 4,
 "nbformat_minor": 5
}
