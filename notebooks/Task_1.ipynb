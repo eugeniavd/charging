{
 "cells": [
  {
   "cell_type": "markdown",
   "id": "db9f80cf-2530-4715-a6a0-20e2e9de5e27",
   "metadata": {},
   "source": [
    "# Task 1 - Data Collection and Preparation\n",
    "<i>You have been provided with a full dataset of charging sessions\n",
    "in two sites for an extended timeframe. The first step should start by ingesting the data in appropriate\n",
    "format, checking for missing or erroneous data, and cleaning your dataset for use in later stages of\n",
    "your project. Briefly describe how you proceeded and how you dealt with possible missing/erroneous\n",
    "data.</i>"
   ]
  },
  {
   "cell_type": "markdown",
   "id": "ed20d2a5-9e8d-4bf0-8fc6-de57aaed454d",
   "metadata": {},
   "source": [
    "#### 1.1 Cleaning Charging Sessions"
   ]
  },
  {
   "cell_type": "code",
   "execution_count": 5,
   "id": "82fb20eb-f192-4941-8da1-37b5048b6161",
   "metadata": {
    "tags": []
   },
   "outputs": [],
   "source": [
    "# All imports are listed and executed here:\n",
    "import numpy as np\n",
    "import pandas as pd\n",
    "import json\n",
    "import pytz\n",
    "from datetime import datetime\n",
    "import pytz\n",
    "import matplotlib.pyplot as plt\n",
    "from ipywidgets import *\n",
    "pd.options.mode.chained_assignment = None  # default='warn'"
   ]
  },
  {
   "cell_type": "code",
   "execution_count": 6,
   "id": "fff0466a-f9d8-4589-a086-c2311d183bc2",
   "metadata": {
    "tags": []
   },
   "outputs": [
    {
     "data": {
      "text/html": [
       "<div>\n",
       "<style scoped>\n",
       "    .dataframe tbody tr th:only-of-type {\n",
       "        vertical-align: middle;\n",
       "    }\n",
       "\n",
       "    .dataframe tbody tr th {\n",
       "        vertical-align: top;\n",
       "    }\n",
       "\n",
       "    .dataframe thead th {\n",
       "        text-align: right;\n",
       "    }\n",
       "</style>\n",
       "<table border=\"1\" class=\"dataframe\">\n",
       "  <thead>\n",
       "    <tr style=\"text-align: right;\">\n",
       "      <th></th>\n",
       "      <th>Unnamed: 0</th>\n",
       "      <th>id</th>\n",
       "      <th>connectionTime</th>\n",
       "      <th>disconnectTime</th>\n",
       "      <th>doneChargingTime</th>\n",
       "      <th>kWhDelivered</th>\n",
       "      <th>sessionID</th>\n",
       "      <th>siteID</th>\n",
       "      <th>spaceID</th>\n",
       "      <th>stationID</th>\n",
       "      <th>timezone</th>\n",
       "      <th>userID</th>\n",
       "      <th>userInputs</th>\n",
       "    </tr>\n",
       "  </thead>\n",
       "  <tbody>\n",
       "    <tr>\n",
       "      <th>0</th>\n",
       "      <td>0</td>\n",
       "      <td>5e23b149f9af8b5fe4b973cf</td>\n",
       "      <td>2020-01-02 13:08:54+00:00</td>\n",
       "      <td>2020-01-02 19:11:15+00:00</td>\n",
       "      <td>2020-01-02 17:31:35+00:00</td>\n",
       "      <td>25.016</td>\n",
       "      <td>1_1_179_810_2020-01-02 13:08:53.870034</td>\n",
       "      <td>1</td>\n",
       "      <td>AG-3F30</td>\n",
       "      <td>1-1-179-810</td>\n",
       "      <td>America/Los_Angeles</td>\n",
       "      <td>194.0</td>\n",
       "      <td>[{'WhPerMile': 250, 'kWhRequested': 25.0, 'mil...</td>\n",
       "    </tr>\n",
       "    <tr>\n",
       "      <th>1</th>\n",
       "      <td>1</td>\n",
       "      <td>5e23b149f9af8b5fe4b973d0</td>\n",
       "      <td>2020-01-02 13:36:50+00:00</td>\n",
       "      <td>2020-01-02 22:38:21+00:00</td>\n",
       "      <td>2020-01-02 20:18:05+00:00</td>\n",
       "      <td>33.097</td>\n",
       "      <td>1_1_193_825_2020-01-02 13:36:49.599853</td>\n",
       "      <td>1</td>\n",
       "      <td>AG-1F01</td>\n",
       "      <td>1-1-193-825</td>\n",
       "      <td>America/Los_Angeles</td>\n",
       "      <td>4275.0</td>\n",
       "      <td>[{'WhPerMile': 280, 'kWhRequested': 70.0, 'mil...</td>\n",
       "    </tr>\n",
       "    <tr>\n",
       "      <th>2</th>\n",
       "      <td>2</td>\n",
       "      <td>5e23b149f9af8b5fe4b973d1</td>\n",
       "      <td>2020-01-02 13:56:35+00:00</td>\n",
       "      <td>2020-01-03 00:39:22+00:00</td>\n",
       "      <td>2020-01-02 16:35:06+00:00</td>\n",
       "      <td>6.521</td>\n",
       "      <td>1_1_193_829_2020-01-02 13:56:35.214993</td>\n",
       "      <td>1</td>\n",
       "      <td>AG-1F03</td>\n",
       "      <td>1-1-193-829</td>\n",
       "      <td>America/Los_Angeles</td>\n",
       "      <td>344.0</td>\n",
       "      <td>[{'WhPerMile': 400, 'kWhRequested': 8.0, 'mile...</td>\n",
       "    </tr>\n",
       "    <tr>\n",
       "      <th>3</th>\n",
       "      <td>3</td>\n",
       "      <td>5e23b149f9af8b5fe4b973d2</td>\n",
       "      <td>2020-01-02 13:59:58+00:00</td>\n",
       "      <td>2020-01-02 16:38:39+00:00</td>\n",
       "      <td>2020-01-02 15:18:45+00:00</td>\n",
       "      <td>2.355</td>\n",
       "      <td>1_1_193_820_2020-01-02 13:59:58.309319</td>\n",
       "      <td>1</td>\n",
       "      <td>AG-1F04</td>\n",
       "      <td>1-1-193-820</td>\n",
       "      <td>America/Los_Angeles</td>\n",
       "      <td>1117.0</td>\n",
       "      <td>[{'WhPerMile': 400, 'kWhRequested': 8.0, 'mile...</td>\n",
       "    </tr>\n",
       "    <tr>\n",
       "      <th>4</th>\n",
       "      <td>4</td>\n",
       "      <td>5e23b149f9af8b5fe4b973d3</td>\n",
       "      <td>2020-01-02 14:00:01+00:00</td>\n",
       "      <td>2020-01-02 22:08:40+00:00</td>\n",
       "      <td>2020-01-02 18:17:30+00:00</td>\n",
       "      <td>13.375</td>\n",
       "      <td>1_1_193_819_2020-01-02 14:00:00.779967</td>\n",
       "      <td>1</td>\n",
       "      <td>AG-1F06</td>\n",
       "      <td>1-1-193-819</td>\n",
       "      <td>America/Los_Angeles</td>\n",
       "      <td>334.0</td>\n",
       "      <td>[{'WhPerMile': 400, 'kWhRequested': 16.0, 'mil...</td>\n",
       "    </tr>\n",
       "  </tbody>\n",
       "</table>\n",
       "</div>"
      ],
      "text/plain": [
       "   Unnamed: 0                        id             connectionTime  \\\n",
       "0           0  5e23b149f9af8b5fe4b973cf  2020-01-02 13:08:54+00:00   \n",
       "1           1  5e23b149f9af8b5fe4b973d0  2020-01-02 13:36:50+00:00   \n",
       "2           2  5e23b149f9af8b5fe4b973d1  2020-01-02 13:56:35+00:00   \n",
       "3           3  5e23b149f9af8b5fe4b973d2  2020-01-02 13:59:58+00:00   \n",
       "4           4  5e23b149f9af8b5fe4b973d3  2020-01-02 14:00:01+00:00   \n",
       "\n",
       "              disconnectTime           doneChargingTime  kWhDelivered  \\\n",
       "0  2020-01-02 19:11:15+00:00  2020-01-02 17:31:35+00:00        25.016   \n",
       "1  2020-01-02 22:38:21+00:00  2020-01-02 20:18:05+00:00        33.097   \n",
       "2  2020-01-03 00:39:22+00:00  2020-01-02 16:35:06+00:00         6.521   \n",
       "3  2020-01-02 16:38:39+00:00  2020-01-02 15:18:45+00:00         2.355   \n",
       "4  2020-01-02 22:08:40+00:00  2020-01-02 18:17:30+00:00        13.375   \n",
       "\n",
       "                                sessionID  siteID  spaceID    stationID  \\\n",
       "0  1_1_179_810_2020-01-02 13:08:53.870034       1  AG-3F30  1-1-179-810   \n",
       "1  1_1_193_825_2020-01-02 13:36:49.599853       1  AG-1F01  1-1-193-825   \n",
       "2  1_1_193_829_2020-01-02 13:56:35.214993       1  AG-1F03  1-1-193-829   \n",
       "3  1_1_193_820_2020-01-02 13:59:58.309319       1  AG-1F04  1-1-193-820   \n",
       "4  1_1_193_819_2020-01-02 14:00:00.779967       1  AG-1F06  1-1-193-819   \n",
       "\n",
       "              timezone  userID  \\\n",
       "0  America/Los_Angeles   194.0   \n",
       "1  America/Los_Angeles  4275.0   \n",
       "2  America/Los_Angeles   344.0   \n",
       "3  America/Los_Angeles  1117.0   \n",
       "4  America/Los_Angeles   334.0   \n",
       "\n",
       "                                          userInputs  \n",
       "0  [{'WhPerMile': 250, 'kWhRequested': 25.0, 'mil...  \n",
       "1  [{'WhPerMile': 280, 'kWhRequested': 70.0, 'mil...  \n",
       "2  [{'WhPerMile': 400, 'kWhRequested': 8.0, 'mile...  \n",
       "3  [{'WhPerMile': 400, 'kWhRequested': 8.0, 'mile...  \n",
       "4  [{'WhPerMile': 400, 'kWhRequested': 16.0, 'mil...  "
      ]
     },
     "execution_count": 6,
     "metadata": {},
     "output_type": "execute_result"
    }
   ],
   "source": [
    "# Load charging data and have first look on it:\n",
    "df_charging_sessions = pd.DataFrame(pd.read_csv(\"../datasets/charging_sessions.csv\"))\n",
    "df_charging_sessions.head(5)"
   ]
  },
  {
   "cell_type": "code",
   "execution_count": 7,
   "id": "ad2a8c31-3e2d-484c-9699-81dce5e4f6ec",
   "metadata": {
    "tags": []
   },
   "outputs": [
    {
     "name": "stdout",
     "output_type": "stream",
     "text": [
      "<class 'pandas.core.frame.DataFrame'>\n",
      "RangeIndex: 66450 entries, 0 to 66449\n",
      "Data columns (total 13 columns):\n",
      " #   Column            Non-Null Count  Dtype  \n",
      "---  ------            --------------  -----  \n",
      " 0   Unnamed: 0        66450 non-null  int64  \n",
      " 1   id                66450 non-null  object \n",
      " 2   connectionTime    66450 non-null  object \n",
      " 3   disconnectTime    66450 non-null  object \n",
      " 4   doneChargingTime  62362 non-null  object \n",
      " 5   kWhDelivered      66450 non-null  float64\n",
      " 6   sessionID         66450 non-null  object \n",
      " 7   siteID            66450 non-null  int64  \n",
      " 8   spaceID           66450 non-null  object \n",
      " 9   stationID         66450 non-null  object \n",
      " 10  timezone          66450 non-null  object \n",
      " 11  userID            49187 non-null  float64\n",
      " 12  userInputs        49187 non-null  object \n",
      "dtypes: float64(2), int64(2), object(9)\n",
      "memory usage: 6.6+ MB\n"
     ]
    }
   ],
   "source": [
    "# Show information about all columns:\n",
    "df_charging_sessions.info()"
   ]
  },
  {
   "cell_type": "code",
   "execution_count": 8,
   "id": "2178d5d3-1124-4e45-af7d-ff54cd1cbc23",
   "metadata": {
    "tags": []
   },
   "outputs": [],
   "source": [
    "# Drop unneccessary id column and timezone column, whch is identical for all entries:\n",
    "df_charging_sessions = df_charging_sessions.drop([\"Unnamed: 0\",\"timezone\"], axis=1)\n",
    "# Drop all duplicates and keep first duplicated entry:\n",
    "df_charging_sessions = df_charging_sessions.drop_duplicates(keep=\"first\")"
   ]
  },
  {
   "cell_type": "code",
   "execution_count": 9,
   "id": "653061a5-0c71-486a-9c6e-9d42a090a597",
   "metadata": {
    "tags": []
   },
   "outputs": [
    {
     "name": "stdout",
     "output_type": "stream",
     "text": [
      "Minimum amount kWh delivered: 0.501 kWh\n",
      "Maximum amount kWh delivered: 108.79724166666666 kWh\n",
      "Average amount kWh delivered: 11.734288174559863 kWh\n"
     ]
    }
   ],
   "source": [
    "# Check the kWh Delivered value for feasibility:\n",
    "print(\"Minimum amount kWh delivered:\", df_charging_sessions[\"kWhDelivered\"].min(),\"kWh\")\n",
    "print(\"Maximum amount kWh delivered:\", df_charging_sessions[\"kWhDelivered\"].max(),\"kWh\")\n",
    "print(\"Average amount kWh delivered:\", df_charging_sessions[\"kWhDelivered\"].mean(),\"kWh\")"
   ]
  },
  {
   "cell_type": "code",
   "execution_count": 10,
   "id": "c5df1fb3-00ff-46eb-8c30-87130d20de61",
   "metadata": {
    "tags": []
   },
   "outputs": [
    {
     "name": "stdout",
     "output_type": "stream",
     "text": [
      "Unique Site ID's: [1 2]\n",
      "Unique Space ID's: ['AG-3F30' 'AG-1F01' 'AG-1F03' 'AG-1F04' 'AG-1F06' 'AG-1F13' 'AG-1F09'\n",
      " 'AG-4F34' 'AG-1F11' 'AG-1F08' 'AG-3F22' 'AG-1F14' 'AG-1F07' 'AG-1F12'\n",
      " 'AG-3F29' 'AG-1F05' 'AG-3F18' 'AG-1F10' 'AG-3F16' 'AG-4F37' 'AG-1F02'\n",
      " 'AG-3F28' 'AG-3F25' 'AG-3F24' 'AG-3F33' 'AG-3F23' 'AG-3F31' 'AG-3F32'\n",
      " 'AG-3F27' 'AG-3F26' 'AG-3F20' 'AG-3F17' 'AG-3F21' 'AG-3F19' 'AG-4F44'\n",
      " 'AG-4F52' 'AG-4F41' 'AG-4F48' 'AG-4F35' 'AG-4F50' 'AG-3F15' 'AG-4F51'\n",
      " 'AG-4F47' 'AG-4F46' 'AG-4F49' 'AG-4F43' 'AG-4F42' 'AG-4F45' 'AG-4F36'\n",
      " 'AG-4F38' 'AG-4F40' 'AG-4F39' 'CA-512' 'CA-327' 'CA-326' 'CA-303'\n",
      " 'CA-325' 'CA-311' 'CA-309' 'CA-491' 'CA-493' 'CA-499' 'CA-323' 'CA-313'\n",
      " 'CA-324' 'CA-513' 'CA-305' 'CA-317' 'CA-510' 'CA-315' 'CA-321' 'CA-490'\n",
      " 'CA-497' 'CA-489' 'CA-319' 'CA-492' 'CA-494' 'CA-502' 'CA-500' 'CA-495'\n",
      " 'CA-498' 'CA-304' 'CA-307' 'CA-306' 'CA-501' 'CA-318' 'CA-308' 'CA-316'\n",
      " 'CA-312' 'CA-320' 'CA-212' 'CA-508' 'CA-322' 'CA-314' 'CA-503' 'CA-504'\n",
      " 'CA-496' 'CA-310' 'CA-506' 'CA-149' 'CA-509' 'CA-507' 'CA-511' 'CA-213'\n",
      " 'CA-505' 'CA-148' '11900388']\n",
      "Unique Station ID's: ['1-1-179-810' '1-1-193-825' '1-1-193-829' '1-1-193-820' '1-1-193-819'\n",
      " '1-1-194-821' '1-1-178-817' '1-1-191-804' '1-1-194-826' '1-1-178-823'\n",
      " '1-1-179-788' '1-1-194-818' '1-1-178-824' '1-1-194-822' '1-1-179-783'\n",
      " '1-1-193-816' '1-1-179-798' '1-1-178-828' '1-1-179-787' '1-1-191-792'\n",
      " '1-1-193-827' '1-1-179-777' '1-1-179-799' '1-1-179-796' '1-1-179-815'\n",
      " '1-1-179-797' '1-1-179-781' '1-1-179-800' '1-1-179-809' '1-1-179-791'\n",
      " '1-1-179-794' '1-1-179-779' '1-1-179-801' '1-1-179-790' '1-1-191-802'\n",
      " '1-1-191-789' '1-1-191-806' '1-1-191-785' '1-1-191-808' '1-1-191-782'\n",
      " '1-1-179-813' '1-1-191-795' '1-1-191-807' '1-1-191-812' '1-1-191-803'\n",
      " '1-1-191-778' '1-1-191-811' '1-1-191-780' '1-1-191-786' '1-1-191-793'\n",
      " '1-1-191-784' '1-1-191-805' '2-39-138-566' '2-39-79-379' '2-39-79-378'\n",
      " '2-39-139-28' '2-39-79-377' '2-39-125-21' '2-39-127-19' '2-39-79-382'\n",
      " '2-39-78-361' '2-39-91-441' '2-39-78-366' '2-39-123-23' '2-39-79-376'\n",
      " '2-39-139-567' '2-39-131-30' '2-39-91-437' '2-39-130-564' '2-39-89-25'\n",
      " '2-39-78-365' '2-39-79-381' '2-39-95-444' '2-39-79-380' '2-39-95-27'\n",
      " '2-39-79-383' '2-39-78-367' '2-39-88-438' '2-39-90-440' '2-39-78-364'\n",
      " '2-39-92-442' '2-39-138-29' '2-39-129-17' '2-39-130-31' '2-39-89-439'\n",
      " '2-39-92-436' '2-39-128-18' '2-39-90-26' '2-39-124-22' '2-39-78-363'\n",
      " '2-39-83-386' '2-39-128-562' '2-39-78-360' '2-39-88-24' '2-39-123-557'\n",
      " '2-39-124-558' '2-39-78-362' '2-39-126-20' '2-39-126-560' '2-39-83-387'\n",
      " '2-39-129-563' '2-39-127-561' '2-39-131-565' '2-39-82-384' '2-39-125-559'\n",
      " '2-39-82-385' '2-39-81-4550']\n"
     ]
    }
   ],
   "source": [
    "# Look at unique values of site/space/station ID's:\n",
    "print(\"Unique Site ID's:\", df_charging_sessions[\"siteID\"].unique())\n",
    "print(\"Unique Space ID's:\", df_charging_sessions[\"spaceID\"].unique())\n",
    "print(\"Unique Station ID's:\", df_charging_sessions[\"stationID\"].unique())"
   ]
  },
  {
   "cell_type": "code",
   "execution_count": 11,
   "id": "75b5c79e-618d-4226-bf47-43327f829f4b",
   "metadata": {
    "tags": []
   },
   "outputs": [
    {
     "name": "stdout",
     "output_type": "stream",
     "text": [
      "Amount of charging sessions with Space ID 11900388: 1125\n",
      "Amount of charging sessions with Space ID 11900388 and no done charging time: 1125\n"
     ]
    }
   ],
   "source": [
    "# Very weird occurrence for Space ID 11900388, it doesn't look like all the others.\n",
    "print(\"Amount of charging sessions with Space ID 11900388:\", len(df_charging_sessions[df_charging_sessions[\"spaceID\"] == \"11900388\"]))\n",
    "# Visual look shows that there are no done charging time entries for this particular ID. So let's check this assumption:\n",
    "print(\"Amount of charging sessions with Space ID 11900388 and no done charging time:\", len(df_charging_sessions[(df_charging_sessions[\"spaceID\"] == \"11900388\") & (df_charging_sessions[\"doneChargingTime\"].isnull().values == True)]))"
   ]
  },
  {
   "cell_type": "code",
   "execution_count": 12,
   "id": "c8d6e832-f336-4324-8918-4868563380bc",
   "metadata": {
    "tags": []
   },
   "outputs": [],
   "source": [
    "# Something is wrong about this space. Let's delete all rows associated with it.\n",
    "df_charging_sessions.drop(df_charging_sessions.index[df_charging_sessions['spaceID'] == \"11900388\"], inplace = True)"
   ]
  },
  {
   "cell_type": "code",
   "execution_count": 13,
   "id": "06e25ec2-6111-4db2-a1e0-3f0abd8dbce0",
   "metadata": {
    "tags": []
   },
   "outputs": [
    {
     "name": "stdout",
     "output_type": "stream",
     "text": [
      "There is a user ID that equals \"0\": False\n",
      "There are null values for the User ID in the dataset: True\n"
     ]
    }
   ],
   "source": [
    "# To handle null values among the User ID, let's check the following statements:\n",
    "print(\"There is a user ID that equals \\\"0\\\":\", 0 in df_charging_sessions.userID.unique())\n",
    "print(\"There are null values for the User ID in the dataset:\", True in df_charging_sessions.userID.isnull().values)"
   ]
  },
  {
   "cell_type": "code",
   "execution_count": 14,
   "id": "14f5832e-4282-43a8-97da-cbbf4a0fa46d",
   "metadata": {
    "tags": []
   },
   "outputs": [
    {
     "name": "stdout",
     "output_type": "stream",
     "text": [
      "There is a user ID that equals \"0\": True\n",
      "There are null values for the User ID in the dataset: False\n"
     ]
    }
   ],
   "source": [
    "# Let's replace all null values in User ID with the User ID 0, so that the anonymous user has ID=0 and check previous statement again:\n",
    "df_charging_sessions[\"userID\"].loc[df_charging_sessions.userID.isnull()] = 0.0\n",
    "print(\"There is a user ID that equals \\\"0\\\":\", 0 in df_charging_sessions.userID.unique())\n",
    "print(\"There are null values for the User ID in the dataset:\", True in df_charging_sessions.userID.isnull().values)"
   ]
  },
  {
   "cell_type": "code",
   "execution_count": 15,
   "id": "8b284fff-82b8-416f-8074-d51c266f539a",
   "metadata": {
    "tags": []
   },
   "outputs": [
    {
     "name": "stdout",
     "output_type": "stream",
     "text": [
      "[\"[{'WhPerMile': 250, 'kWhRequested': 25.0, 'milesRequested': 100, 'minutesAvailable': 463, 'modifiedAt': 'Thu, 02 Jan 2020 13:09:39 GMT', 'paymentRequired': True, 'requestedDeparture': 'Thu, 02 Jan 2020 20:51:54 GMT', 'userID': 194}]\"]\n"
     ]
    }
   ],
   "source": [
    "# Let's have a look on how the User Input looks like:\n",
    "print(df_charging_sessions[\"userInputs\"].head(1).values)"
   ]
  },
  {
   "cell_type": "code",
   "execution_count": 16,
   "id": "a590fb66-5131-4fc7-91eb-cdd602b6b580",
   "metadata": {
    "tags": []
   },
   "outputs": [],
   "source": [
    "# To handle null values in User Input for anonymous users, let's replace those cells with empty lists:\n",
    "df_charging_sessions[\"userInputs\"].loc[df_charging_sessions.userInputs.isnull()] = \"[]\""
   ]
  },
  {
   "cell_type": "code",
   "execution_count": 17,
   "id": "6066e397-6cc5-4f79-8e92-4008b3f8dcbc",
   "metadata": {
    "tags": []
   },
   "outputs": [],
   "source": [
    "# To better handle timestamps, let's bring them into a suitable format and convert them to Los Angeles timezone:\n",
    "df_charging_sessions['connectionTime'] = pd.to_datetime(df_charging_sessions['connectionTime']).dt.tz_convert('America/Los_Angeles')\n",
    "df_charging_sessions['disconnectTime'] = pd.to_datetime(df_charging_sessions['disconnectTime']).dt.tz_convert('America/Los_Angeles')\n",
    "df_charging_sessions['doneChargingTime'] = pd.to_datetime(df_charging_sessions['doneChargingTime']).dt.tz_convert('America/Los_Angeles')"
   ]
  },
  {
   "cell_type": "code",
   "execution_count": 18,
   "id": "4abcbdab-de0e-4f1d-b5eb-ba2b004275fa",
   "metadata": {
    "tags": []
   },
   "outputs": [],
   "source": [
    "# Where there is no finished charging time, let's assume charging finished when vehicle was plugged out:\n",
    "df_charging_sessions[\"doneChargingTime\"].loc[\n",
    "df_charging_sessions.doneChargingTime.isnull()] = df_charging_sessions[\"disconnectTime\"].loc[df_charging_sessions.doneChargingTime.isnull()]"
   ]
  },
  {
   "cell_type": "code",
   "execution_count": 19,
   "id": "b99ac60f-f516-4b7e-8b6e-ba18e96dfdf4",
   "metadata": {
    "tags": []
   },
   "outputs": [
    {
     "name": "stdout",
     "output_type": "stream",
     "text": [
      "Minimum time connected: 183.0s\n",
      "Maximum time connected: 882969.0s\n",
      "Average time connected: 22936.419389160095s\n"
     ]
    }
   ],
   "source": [
    "# Let's check the values of the overall time vehicles were connected:\n",
    "time_connected = (df_charging_sessions.disconnectTime - df_charging_sessions.connectionTime).dt.total_seconds()\n",
    "print(\"Minimum time connected:\", time_connected.min(),\"\\bs\")\n",
    "print(\"Maximum time connected:\", time_connected.max(),\"\\bs\")\n",
    "print(\"Average time connected:\", time_connected.mean(),\"\\bs\")"
   ]
  },
  {
   "cell_type": "code",
   "execution_count": 20,
   "id": "9fa8f49b-f477-4cf6-8e9f-10055e95a596",
   "metadata": {
    "tags": []
   },
   "outputs": [
    {
     "name": "stdout",
     "output_type": "stream",
     "text": [
      "Minimum idle time: -3596.0s\n",
      "Maximum idle time: 562037.0s\n",
      "Average idle time: 9795.857945299787s\n"
     ]
    }
   ],
   "source": [
    "# Check how idle time looks like. This is the time where the vehicle was still plugged in but done charging:\n",
    "time_idle = (df_charging_sessions.disconnectTime - df_charging_sessions.doneChargingTime).dt.total_seconds()\n",
    "print(\"Minimum idle time:\", time_idle.min(),\"\\bs\")\n",
    "print(\"Maximum idle time:\", time_idle.max(),\"\\bs\")\n",
    "print(\"Average idle time:\", time_idle.mean(),\"\\bs\")"
   ]
  },
  {
   "cell_type": "code",
   "execution_count": 21,
   "id": "0bfef102-def9-4a20-9a80-82237ff5743e",
   "metadata": {
    "tags": []
   },
   "outputs": [
    {
     "name": "stdout",
     "output_type": "stream",
     "text": [
      "Negative idle times: 4387\n"
     ]
    }
   ],
   "source": [
    "# How many are there having negative values??\n",
    "print(\"Negative idle times:\", (time_idle < 0).sum())"
   ]
  },
  {
   "cell_type": "code",
   "execution_count": 22,
   "id": "d214f595-5bbf-4ca7-8d0d-b7036f569b8b",
   "metadata": {
    "tags": []
   },
   "outputs": [],
   "source": [
    "# Maybe there was a sync error because viusally we can see that most of the times done charging time is set ~2 minutes after plug out.\n",
    "# This means that a lot of those values may be set to disconnect time\n",
    "df_charging_sessions[\"doneChargingTime\"].loc[((df_charging_sessions.disconnectTime - df_charging_sessions.doneChargingTime).dt.total_seconds() > -120) &\n",
    "((df_charging_sessions.disconnectTime - df_charging_sessions.doneChargingTime).dt.total_seconds() < 0)] = df_charging_sessions[\"disconnectTime\"].loc[\n",
    "((df_charging_sessions.disconnectTime - df_charging_sessions.doneChargingTime).dt.total_seconds() > -120) &\n",
    "((df_charging_sessions.disconnectTime - df_charging_sessions.doneChargingTime).dt.total_seconds() < 0)]"
   ]
  },
  {
   "cell_type": "code",
   "execution_count": 23,
   "id": "2aaef0cf-c698-4a44-8b70-ac0fcee94779",
   "metadata": {
    "tags": []
   },
   "outputs": [
    {
     "name": "stdout",
     "output_type": "stream",
     "text": [
      "Negative idle times: 2\n"
     ]
    }
   ],
   "source": [
    "# Now let's check again:\n",
    "time_idle = (df_charging_sessions.disconnectTime - df_charging_sessions.doneChargingTime).dt.total_seconds()\n",
    "print(\"Negative idle times:\", (time_idle < 0).sum())"
   ]
  },
  {
   "cell_type": "code",
   "execution_count": 24,
   "id": "159359e9-7fd0-488b-8c1a-41f0fc2acdc4",
   "metadata": {
    "tags": []
   },
   "outputs": [],
   "source": [
    "# Drop the two remaining rows that seem to be erroneous:\n",
    "df_charging_sessions.drop(df_charging_sessions.index[\n",
    "((df_charging_sessions.disconnectTime - df_charging_sessions.doneChargingTime).dt.total_seconds() < -120)], inplace = True)"
   ]
  },
  {
   "cell_type": "code",
   "execution_count": 25,
   "id": "e5cc4b71-4a28-438c-a774-4c2be6f3c737",
   "metadata": {
    "tags": []
   },
   "outputs": [
    {
     "name": "stdout",
     "output_type": "stream",
     "text": [
      "Negative idle times: 0\n"
     ]
    }
   ],
   "source": [
    "# Now let's check again:\n",
    "time_idle = (df_charging_sessions.disconnectTime - df_charging_sessions.doneChargingTime).dt.total_seconds()\n",
    "print(\"Negative idle times:\", (time_idle < 0).sum())"
   ]
  },
  {
   "cell_type": "code",
   "execution_count": 26,
   "id": "e2f06c44-6b3f-4879-a3bc-6d5f13f965e3",
   "metadata": {
    "tags": []
   },
   "outputs": [
    {
     "name": "stdout",
     "output_type": "stream",
     "text": [
      "Observation start date: 2018-04-25 04:08:04-07:00\n",
      "Observation end date: 2021-09-14 07:46:28-07:00\n",
      "Total observation interval: 1238 days 03:38:24\n"
     ]
    }
   ],
   "source": [
    "# Have a look on total time range information:\n",
    "print(\"Observation start date:\", df_charging_sessions.connectionTime.min())\n",
    "print(\"Observation end date:\", df_charging_sessions.disconnectTime.max())\n",
    "print(\"Total observation interval:\", df_charging_sessions.disconnectTime.max() - df_charging_sessions.connectionTime.min())"
   ]
  },
  {
   "cell_type": "code",
   "execution_count": 27,
   "id": "c3fd2ce0-66c8-45c7-93bd-6980a9acb41d",
   "metadata": {
    "tags": []
   },
   "outputs": [
    {
     "name": "stdout",
     "output_type": "stream",
     "text": [
      "Minimum charging time: -2482.0s\n",
      "Maximum charging time: 720057.0s\n",
      "Average charging time: 13136.965560945078s\n"
     ]
    }
   ],
   "source": [
    "# Now it is necessary to check the actual charging times for errors with same procedure as above:\n",
    "time_charging = (df_charging_sessions.doneChargingTime - df_charging_sessions.connectionTime).dt.total_seconds()\n",
    "print(\"Minimum charging time:\", time_charging.min(),\"\\bs\")\n",
    "print(\"Maximum charging time:\", time_charging.max(),\"\\bs\")\n",
    "print(\"Average charging time:\", time_charging.mean(),\"\\bs\")"
   ]
  },
  {
   "cell_type": "code",
   "execution_count": 28,
   "id": "acc669c6-8747-40cd-b3c8-165b96da014f",
   "metadata": {
    "tags": []
   },
   "outputs": [
    {
     "name": "stdout",
     "output_type": "stream",
     "text": [
      "Amount of magic sessions where charging was done before even plugged in: 27\n"
     ]
    }
   ],
   "source": [
    "# Done charging before even plugged in? Interesting isn't it...\n",
    "print(\"Amount of magic sessions where charging was done before even plugged in:\", (time_charging < 0).sum())"
   ]
  },
  {
   "cell_type": "code",
   "execution_count": 29,
   "id": "120f0b23-10f2-4e6d-9b37-5d18f2caddf0",
   "metadata": {
    "tags": []
   },
   "outputs": [],
   "source": [
    "# The 27 magic sessions shall vanish...\n",
    "df_charging_sessions.drop(df_charging_sessions.index[\n",
    "((df_charging_sessions.doneChargingTime - df_charging_sessions.connectionTime).dt.total_seconds() < 0)], inplace = True)"
   ]
  },
  {
   "cell_type": "code",
   "execution_count": 30,
   "id": "49c605f0-14bb-46cb-9427-c586b6118586",
   "metadata": {
    "tags": []
   },
   "outputs": [
    {
     "name": "stdout",
     "output_type": "stream",
     "text": [
      "Amount of magic sessions where charging was done before even plugged in: 0\n"
     ]
    }
   ],
   "source": [
    "# Just to get sure...\n",
    "time_charging = (df_charging_sessions.doneChargingTime - df_charging_sessions.connectionTime).dt.total_seconds()\n",
    "print(\"Amount of magic sessions where charging was done before even plugged in:\", (time_charging < 0).sum())"
   ]
  },
  {
   "cell_type": "code",
   "execution_count": 31,
   "id": "395a977b-60a4-4b30-abee-43b7f29c9790",
   "metadata": {
    "tags": []
   },
   "outputs": [],
   "source": [
    "# We have to format the user inputs to check them for null values easier:\n",
    "userInputs = df_charging_sessions.userInputs.tolist()\n",
    "for i in range(0, len(userInputs)):\n",
    "    userInputs[i] = json.loads(userInputs[i].replace(\"'\", \"\\\"\").replace(\": False\",\": false\").replace(\": True\",\": true\"))\n",
    "\n",
    "df_charging_sessions.userInputs = userInputs"
   ]
  },
  {
   "cell_type": "code",
   "execution_count": 32,
   "id": "3a889bf6-6549-4041-9522-7a370c416f9e",
   "metadata": {
    "tags": []
   },
   "outputs": [],
   "source": [
    "# Also reset the index for iteration purposes:\n",
    "df_charging_sessions = df_charging_sessions.reset_index(drop=True)"
   ]
  },
  {
   "cell_type": "code",
   "execution_count": 33,
   "id": "98045a80-c18e-46ea-bc03-c98616c58f64",
   "metadata": {
    "tags": []
   },
   "outputs": [
    {
     "name": "stdout",
     "output_type": "stream",
     "text": [
      "Missing values in User Input: 0\n"
     ]
    }
   ],
   "source": [
    "# This script will check for any missing values across all user input data:\n",
    "c = 0\n",
    "for i in range(0, len(df_charging_sessions.userInputs)):\n",
    "    if not len(df_charging_sessions.userInputs[i]) == 0:\n",
    "        for j in range(0, len(df_charging_sessions.userInputs[i])):\n",
    "            for item in df_charging_sessions.userInputs[i][j].values():\n",
    "                if item == None or item == \"NaN\" or item == \"\":\n",
    "                    c+=1\n",
    "                    \n",
    "print(\"Missing values in User Input:\", c)"
   ]
  },
  {
   "cell_type": "code",
   "execution_count": 34,
   "id": "a81c6c3f-14eb-4e08-a236-a443c1931709",
   "metadata": {
    "tags": []
   },
   "outputs": [
    {
     "name": "stdout",
     "output_type": "stream",
     "text": [
      "<class 'pandas.core.frame.DataFrame'>\n",
      "RangeIndex: 63883 entries, 0 to 63882\n",
      "Data columns (total 11 columns):\n",
      " #   Column            Non-Null Count  Dtype                              \n",
      "---  ------            --------------  -----                              \n",
      " 0   id                63883 non-null  object                             \n",
      " 1   connectionTime    63883 non-null  datetime64[ns, America/Los_Angeles]\n",
      " 2   disconnectTime    63883 non-null  datetime64[ns, America/Los_Angeles]\n",
      " 3   doneChargingTime  63883 non-null  datetime64[ns, America/Los_Angeles]\n",
      " 4   kWhDelivered      63883 non-null  float64                            \n",
      " 5   sessionID         63883 non-null  object                             \n",
      " 6   siteID            63883 non-null  int64                              \n",
      " 7   spaceID           63883 non-null  object                             \n",
      " 8   stationID         63883 non-null  object                             \n",
      " 9   userID            63883 non-null  float64                            \n",
      " 10  userInputs        63883 non-null  object                             \n",
      "dtypes: datetime64[ns, America/Los_Angeles](3), float64(2), int64(1), object(5)\n",
      "memory usage: 5.4+ MB\n"
     ]
    }
   ],
   "source": [
    "# Final look on column info:\n",
    "df_charging_sessions.info()"
   ]
  },
  {
   "cell_type": "code",
   "execution_count": 35,
   "id": "a206f0eb-a6fa-4636-b57c-b3c06584255a",
   "metadata": {
    "tags": []
   },
   "outputs": [],
   "source": [
    "# Dataset cleaned, sort everything by date and time and export the resulting dataset:\n",
    "df_charging_sessions.sort_values('connectionTime', inplace=True)\n",
    "df_charging_sessions.to_csv(\"../datasets/charging_sessions_cleaned.csv\", index=False)"
   ]
  },
  {
   "cell_type": "markdown",
   "id": "fe5c019f-e857-4403-b821-557df8368538",
   "metadata": {},
   "source": [
    "#### 1.2 Cleaning Weather Data"
   ]
  },
  {
   "cell_type": "code",
   "execution_count": 36,
   "id": "6d17beed-3fbe-4416-a0b4-2231f9c2d784",
   "metadata": {
    "tags": []
   },
   "outputs": [
    {
     "data": {
      "text/html": [
       "<div>\n",
       "<style scoped>\n",
       "    .dataframe tbody tr th:only-of-type {\n",
       "        vertical-align: middle;\n",
       "    }\n",
       "\n",
       "    .dataframe tbody tr th {\n",
       "        vertical-align: top;\n",
       "    }\n",
       "\n",
       "    .dataframe thead th {\n",
       "        text-align: right;\n",
       "    }\n",
       "</style>\n",
       "<table border=\"1\" class=\"dataframe\">\n",
       "  <thead>\n",
       "    <tr style=\"text-align: right;\">\n",
       "      <th></th>\n",
       "      <th>city</th>\n",
       "      <th>timestamp</th>\n",
       "      <th>temperature</th>\n",
       "      <th>cloud_cover</th>\n",
       "      <th>cloud_cover_description</th>\n",
       "      <th>pressure</th>\n",
       "      <th>windspeed</th>\n",
       "      <th>precipitation</th>\n",
       "      <th>felt_temperature</th>\n",
       "    </tr>\n",
       "  </thead>\n",
       "  <tbody>\n",
       "    <tr>\n",
       "      <th>0</th>\n",
       "      <td>Burbank</td>\n",
       "      <td>2018-01-01 08:53:00</td>\n",
       "      <td>9.0</td>\n",
       "      <td>33.0</td>\n",
       "      <td>Fair</td>\n",
       "      <td>991.75</td>\n",
       "      <td>9.0</td>\n",
       "      <td>0.0</td>\n",
       "      <td>8.0</td>\n",
       "    </tr>\n",
       "    <tr>\n",
       "      <th>1</th>\n",
       "      <td>Burbank</td>\n",
       "      <td>2018-01-01 09:53:00</td>\n",
       "      <td>9.0</td>\n",
       "      <td>33.0</td>\n",
       "      <td>Fair</td>\n",
       "      <td>992.08</td>\n",
       "      <td>0.0</td>\n",
       "      <td>0.0</td>\n",
       "      <td>9.0</td>\n",
       "    </tr>\n",
       "    <tr>\n",
       "      <th>2</th>\n",
       "      <td>Burbank</td>\n",
       "      <td>2018-01-01 10:53:00</td>\n",
       "      <td>9.0</td>\n",
       "      <td>21.0</td>\n",
       "      <td>Haze</td>\n",
       "      <td>992.08</td>\n",
       "      <td>0.0</td>\n",
       "      <td>0.0</td>\n",
       "      <td>9.0</td>\n",
       "    </tr>\n",
       "    <tr>\n",
       "      <th>3</th>\n",
       "      <td>Burbank</td>\n",
       "      <td>2018-01-01 11:53:00</td>\n",
       "      <td>9.0</td>\n",
       "      <td>29.0</td>\n",
       "      <td>Partly Cloudy</td>\n",
       "      <td>992.08</td>\n",
       "      <td>0.0</td>\n",
       "      <td>0.0</td>\n",
       "      <td>9.0</td>\n",
       "    </tr>\n",
       "    <tr>\n",
       "      <th>4</th>\n",
       "      <td>Burbank</td>\n",
       "      <td>2018-01-01 12:53:00</td>\n",
       "      <td>8.0</td>\n",
       "      <td>33.0</td>\n",
       "      <td>Fair</td>\n",
       "      <td>992.08</td>\n",
       "      <td>0.0</td>\n",
       "      <td>0.0</td>\n",
       "      <td>8.0</td>\n",
       "    </tr>\n",
       "  </tbody>\n",
       "</table>\n",
       "</div>"
      ],
      "text/plain": [
       "      city            timestamp  temperature  cloud_cover  \\\n",
       "0  Burbank  2018-01-01 08:53:00          9.0         33.0   \n",
       "1  Burbank  2018-01-01 09:53:00          9.0         33.0   \n",
       "2  Burbank  2018-01-01 10:53:00          9.0         21.0   \n",
       "3  Burbank  2018-01-01 11:53:00          9.0         29.0   \n",
       "4  Burbank  2018-01-01 12:53:00          8.0         33.0   \n",
       "\n",
       "  cloud_cover_description  pressure  windspeed  precipitation  \\\n",
       "0                    Fair    991.75        9.0            0.0   \n",
       "1                    Fair    992.08        0.0            0.0   \n",
       "2                    Haze    992.08        0.0            0.0   \n",
       "3           Partly Cloudy    992.08        0.0            0.0   \n",
       "4                    Fair    992.08        0.0            0.0   \n",
       "\n",
       "   felt_temperature  \n",
       "0               8.0  \n",
       "1               9.0  \n",
       "2               9.0  \n",
       "3               9.0  \n",
       "4               8.0  "
      ]
     },
     "execution_count": 36,
     "metadata": {},
     "output_type": "execute_result"
    }
   ],
   "source": [
    "# Load weather data and have first look on it:\n",
    "df_weather = pd.DataFrame(pd.read_csv(\"../datasets/weather_burbank_airport.csv\"))\n",
    "df_weather.head(5)"
   ]
  },
  {
   "cell_type": "code",
   "execution_count": 37,
   "id": "5295e64a-dd97-48e3-b700-dbbca1514f8a",
   "metadata": {
    "tags": []
   },
   "outputs": [
    {
     "name": "stdout",
     "output_type": "stream",
     "text": [
      "<class 'pandas.core.frame.DataFrame'>\n",
      "RangeIndex: 29244 entries, 0 to 29243\n",
      "Data columns (total 9 columns):\n",
      " #   Column                   Non-Null Count  Dtype  \n",
      "---  ------                   --------------  -----  \n",
      " 0   city                     29244 non-null  object \n",
      " 1   timestamp                29244 non-null  object \n",
      " 2   temperature              29219 non-null  float64\n",
      " 3   cloud_cover              29224 non-null  float64\n",
      " 4   cloud_cover_description  29224 non-null  object \n",
      " 5   pressure                 29236 non-null  float64\n",
      " 6   windspeed                29158 non-null  float64\n",
      " 7   precipitation            29244 non-null  float64\n",
      " 8   felt_temperature         29218 non-null  float64\n",
      "dtypes: float64(6), object(3)\n",
      "memory usage: 2.0+ MB\n"
     ]
    }
   ],
   "source": [
    "# Show information about all columns:\n",
    "df_weather.info()"
   ]
  },
  {
   "cell_type": "code",
   "execution_count": 38,
   "id": "ca1df285-f649-435d-840a-4a4d5fee26d5",
   "metadata": {
    "tags": []
   },
   "outputs": [],
   "source": [
    "# We have to drop the rows with null values because we cannot simply replace them:\n",
    "df_weather.drop(df_weather.index[df_weather['temperature'].isna()], inplace = True)\n",
    "df_weather.drop(df_weather.index[df_weather['cloud_cover_description'].isna()], inplace = True)\n",
    "df_weather.drop(df_weather.index[df_weather['pressure'].isna()], inplace = True)\n",
    "df_weather.drop(df_weather.index[df_weather['windspeed'].isna()], inplace = True)"
   ]
  },
  {
   "cell_type": "code",
   "execution_count": 39,
   "id": "ef8fb64a-1b2c-49ac-9d8f-9f4394423255",
   "metadata": {
    "tags": []
   },
   "outputs": [],
   "source": [
    "# Drop duplicates if present:\n",
    "df_weather = df_weather.drop_duplicates(keep=\"first\")"
   ]
  },
  {
   "cell_type": "code",
   "execution_count": 40,
   "id": "ea2bd518-42ab-4746-ae84-5f7c85269a70",
   "metadata": {
    "tags": []
   },
   "outputs": [
    {
     "name": "stdout",
     "output_type": "stream",
     "text": [
      "<class 'pandas.core.frame.DataFrame'>\n",
      "Index: 29105 entries, 0 to 29243\n",
      "Data columns (total 9 columns):\n",
      " #   Column                   Non-Null Count  Dtype  \n",
      "---  ------                   --------------  -----  \n",
      " 0   city                     29105 non-null  object \n",
      " 1   timestamp                29105 non-null  object \n",
      " 2   temperature              29105 non-null  float64\n",
      " 3   cloud_cover              29105 non-null  float64\n",
      " 4   cloud_cover_description  29105 non-null  object \n",
      " 5   pressure                 29105 non-null  float64\n",
      " 6   windspeed                29105 non-null  float64\n",
      " 7   precipitation            29105 non-null  float64\n",
      " 8   felt_temperature         29105 non-null  float64\n",
      "dtypes: float64(6), object(3)\n",
      "memory usage: 2.2+ MB\n"
     ]
    }
   ],
   "source": [
    "# Let's see how many rows we lost:\n",
    "df_weather.info()"
   ]
  },
  {
   "cell_type": "code",
   "execution_count": 41,
   "id": "0a7dc3f7-cc3b-4543-be02-1790160dafdb",
   "metadata": {
    "tags": []
   },
   "outputs": [
    {
     "name": "stdout",
     "output_type": "stream",
     "text": [
      "Unique cities: ['Burbank']\n",
      "Unique weather description: ['Fair' 'Haze' 'Partly Cloudy' 'Mostly Cloudy' 'Cloudy' 'Fog' 'Light Rain'\n",
      " 'Rain' 'Heavy Rain' 'Heavy Rain / Windy' 'Light Rain / Windy' 'T-Storm'\n",
      " 'Fair / Windy' 'Cloudy / Windy' 'Mostly Cloudy / Windy'\n",
      " 'Partly Cloudy / Windy' 'Thunder in the Vicinity' 'Thunder' 'Smoke'\n",
      " 'Light Rain with Thunder' 'Heavy T-Storm' 'Rain / Windy' 'Blowing Dust']\n"
     ]
    }
   ],
   "source": [
    "# Check unique String values:\n",
    "print(\"Unique cities:\", df_weather.city.unique())\n",
    "print(\"Unique weather description:\", df_weather.cloud_cover_description.unique())"
   ]
  },
  {
   "cell_type": "code",
   "execution_count": 42,
   "id": "08c1e381-2398-4950-8ebc-a53a9e9b07fc",
   "metadata": {
    "tags": []
   },
   "outputs": [],
   "source": [
    "# Adjust timestamp so that it has an identical format just like the other dataset:\n",
    "df_weather['timestamp'] = pd.to_datetime(df_weather['timestamp']).dt.tz_localize(tz='America/Los_Angeles', ambiguous='NaT', nonexistent='shift_forward')"
   ]
  },
  {
   "cell_type": "code",
   "execution_count": 43,
   "id": "095af67c-11ea-482d-8303-39cdb5897e24",
   "metadata": {
    "tags": []
   },
   "outputs": [
    {
     "name": "stdout",
     "output_type": "stream",
     "text": [
      "Amount of rows with corrupt timestamps: 3\n"
     ]
    }
   ],
   "source": [
    "# Delete rows with an erroneous timestamp (there are only three such rows):\n",
    "print(\"Amount of rows with corrupt timestamps:\", len(df_weather[df_weather.timestamp.isna() == True]))\n",
    "df_weather = df_weather[df_weather.timestamp.isna() == False]"
   ]
  },
  {
   "cell_type": "code",
   "execution_count": 44,
   "id": "69fdf743-891f-426e-b8b4-79694fc47c27",
   "metadata": {
    "tags": []
   },
   "outputs": [
    {
     "name": "stdout",
     "output_type": "stream",
     "text": [
      "Minimum measured temperature: 2.0°C\n",
      "Maximum measured temperature: 46.0°C\n",
      "Average measured temperature: 17.873410762146932°C\n",
      "\n",
      "Minimum measured cloud cover: 4.0%\n",
      "Maximum measured cloud cover: 47.0%\n",
      "Average measured cloud cover: 30.108068174008658%\n",
      "\n",
      "Minimum measured pressure: 971.0 mBar\n",
      "Maximum measured pressure: 999.65 mBar\n",
      "Average measured pressure: 986.879853961927 mBar\n",
      "\n",
      "Minimum measured windspeed: 0.0 km/h\n",
      "Maximum measured windspeed: 57.0 km/h\n",
      "Average measured windspeed: 8.57226307470277 km/h\n",
      "\n",
      "Minimum measured precipitation: 0.0 mm\n",
      "Maximum measured precipitation: 18.54 mm\n",
      "Average measured precipitation: 0.05959727853755756 mm\n",
      "\n",
      "Minimum measured felt temperature: 0.0°C\n",
      "Maximum measured felt temperature: 42.0°C\n",
      "Average measured felt temperature: 17.71881657618033°C\n",
      "\n"
     ]
    }
   ],
   "source": [
    "# Now let's check all measurements for feasibility:\n",
    "scales = [\"temperature\", \"cloud cover\", \"pressure\", \"windspeed\", \"precipitation\", \"felt temperature\"]\n",
    "unit = [\"\\b°C\", \"\\b%\", \"mBar\", \"km/h\", \"mm\", \"\\b°C\"]\n",
    "scales_in_df = list(df_weather.columns.values)\n",
    "scales_in_df.pop(0)\n",
    "scales_in_df.pop(0)\n",
    "scales_in_df.pop(2)\n",
    "i = 0\n",
    "for scale in scales_in_df:\n",
    "    print(f\"Minimum measured {scales[i]}:\", df_weather[scale].min(), unit[i])\n",
    "    print(f\"Maximum measured {scales[i]}:\", df_weather[scale].max(), unit[i])\n",
    "    print(f\"Average measured {scales[i]}:\", df_weather[scale].mean(), unit[i])\n",
    "    print()\n",
    "    i+=1\n"
   ]
  },
  {
   "cell_type": "code",
   "execution_count": 45,
   "id": "28e80a36-0c26-48e0-b8a8-c4dfb37b2b20",
   "metadata": {
    "tags": []
   },
   "outputs": [],
   "source": [
    "# We don't need the city column, felt temperature, and cloud cover:\n",
    "df_weather = df_weather.drop([\"city\", \"felt_temperature\", \"cloud_cover\"], axis=1)\n",
    "# Cloud cover description can be renamed to weather:\n",
    "df_weather.rename(columns={\"cloud_cover_description\":\"weather\"}, inplace=True)"
   ]
  },
  {
   "cell_type": "code",
   "execution_count": 46,
   "id": "860c803f-7171-49f5-8110-d9b6938df5b7",
   "metadata": {
    "tags": []
   },
   "outputs": [
    {
     "name": "stdout",
     "output_type": "stream",
     "text": [
      "<class 'pandas.core.frame.DataFrame'>\n",
      "Index: 29102 entries, 0 to 29243\n",
      "Data columns (total 6 columns):\n",
      " #   Column         Non-Null Count  Dtype                              \n",
      "---  ------         --------------  -----                              \n",
      " 0   timestamp      29102 non-null  datetime64[ns, America/Los_Angeles]\n",
      " 1   temperature    29102 non-null  float64                            \n",
      " 2   weather        29102 non-null  object                             \n",
      " 3   pressure       29102 non-null  float64                            \n",
      " 4   windspeed      29102 non-null  float64                            \n",
      " 5   precipitation  29102 non-null  float64                            \n",
      "dtypes: datetime64[ns, America/Los_Angeles](1), float64(4), object(1)\n",
      "memory usage: 1.6+ MB\n"
     ]
    }
   ],
   "source": [
    "# Show information about all columns for a last time:\n",
    "df_weather.info()"
   ]
  },
  {
   "cell_type": "code",
   "execution_count": 47,
   "id": "e8f99244-9860-4cb2-9b6c-e59f4fd383d7",
   "metadata": {
    "tags": []
   },
   "outputs": [],
   "source": [
    "# Weather data is now cleaned, export it ordered by date and time:\n",
    "df_weather.sort_values('timestamp', inplace=True)\n",
    "df_weather.to_csv(\"../datasets/weather_burbank_airport_cleaned.csv\", index=False)"
   ]
  },
  {
   "cell_type": "markdown",
   "id": "df326bb4-746f-4fae-8dc1-c4ee713b3526",
   "metadata": {},
   "source": [
    "#### 1.3 Cleaning Weather for 2021 (Extension Data)"
   ]
  },
  {
   "cell_type": "code",
   "execution_count": 48,
   "id": "f19be073-7f94-4a0a-bb5c-105c307bb149",
   "metadata": {
    "tags": []
   },
   "outputs": [],
   "source": [
    "# This dataset was downloaded from https://www.weather.gov/wrh/timeseries?site=KBUR and processed with help of https://www.convertcsv.com/html-table-to-csv.htm\n",
    "df_2021 = pd.DataFrame(pd.read_csv(\"../datasets/2021.csv\"))"
   ]
  },
  {
   "cell_type": "code",
   "execution_count": 49,
   "id": "c3e22fe1-c3be-47c3-aa62-f37ef1ab56fc",
   "metadata": {
    "tags": []
   },
   "outputs": [
    {
     "name": "stdout",
     "output_type": "stream",
     "text": [
      "<class 'pandas.core.frame.DataFrame'>\n",
      "RangeIndex: 8940 entries, 0 to 8939\n",
      "Data columns (total 22 columns):\n",
      " #   Column                   Non-Null Count  Dtype  \n",
      "---  ------                   --------------  -----  \n",
      " 0   Date/Time(L)             8940 non-null   object \n",
      " 1   Temp. (°C)               8938 non-null   float64\n",
      " 2   Dew Point (°C)           8937 non-null   float64\n",
      " 3   Relative Humidity (%)    8937 non-null   float64\n",
      " 4   Heat Index (°C)          1086 non-null   float64\n",
      " 5   Wind Chill (°C)          33 non-null     float64\n",
      " 6   Wind Direction           8536 non-null   object \n",
      " 7   Wind Speed (kph)         8940 non-null   object \n",
      " 8   Visibility (km)          8939 non-null   float64\n",
      " 9   Weather                  912 non-null    object \n",
      " 10  Clouds (x100 ft)         8924 non-null   object \n",
      " 11  Sea Level Pressure (mb)  8684 non-null   float64\n",
      " 12  Station Pressure (mb)    8940 non-null   float64\n",
      " 13  Altimeter Setting (mb)   8940 non-null   float64\n",
      " 14  1 Hour Precip (mm)       340 non-null    float64\n",
      " 15  3 Hour Precip (mm)       68 non-null     float64\n",
      " 16  6 Hour Precip (mm)       90 non-null     float64\n",
      " 17  24 Hour Precip (mm)      28 non-null     float64\n",
      " 18  6 Hr Max (°C)            1442 non-null   float64\n",
      " 19  6 Hr Min (°C)            1442 non-null   float64\n",
      " 20  24 Hr Max (°C)           361 non-null    float64\n",
      " 21  24 Hr Min (°C)           361 non-null    float64\n",
      "dtypes: float64(17), object(5)\n",
      "memory usage: 1.5+ MB\n"
     ]
    }
   ],
   "source": [
    "# Get overview of data\n",
    "df_2021.info()"
   ]
  },
  {
   "cell_type": "code",
   "execution_count": 50,
   "id": "b6fa18ba-4134-4ea3-9639-aa989292041f",
   "metadata": {
    "tags": []
   },
   "outputs": [],
   "source": [
    "# Drop unnecessary columns and rename to match the columns of given weather dataset\n",
    "df_2021.drop([\"Dew Point (°C)\", \"Relative Humidity (%)\", \"Heat Index (°C)\", \"Wind Chill (°C)\", \"Wind Direction\", \"Visibility (km)\", \"Clouds (x100 ft)\", \"Sea Level Pressure (mb)\", \"Altimeter Setting (mb)\", \"3 Hour Precip (mm)\", \"6 Hour Precip (mm)\", \"24 Hour Precip (mm)\", \"6 Hr Max (°C)\", \"6 Hr Min (°C)\", \"24 Hr Max (°C)\", \"24 Hr Min (°C)\"], axis=1, inplace=True)\n",
    "df_2021.rename(columns={\"Temp. (°C)\": \"temperature\", \"Date/Time(L)\":\"timestamp\", \"Wind Speed (kph)\":\"windspeed\", \"Weather\":\"weather\", \"Station Pressure (mb)\":\"pressure\", \"1 Hour Precip (mm)\":\"precipitation\"}, inplace=True)"
   ]
  },
  {
   "cell_type": "code",
   "execution_count": 51,
   "id": "7ea333cc-95fc-4773-b6e0-ebb9aa29ca12",
   "metadata": {
    "tags": []
   },
   "outputs": [
    {
     "name": "stdout",
     "output_type": "stream",
     "text": [
      "<class 'pandas.core.frame.DataFrame'>\n",
      "RangeIndex: 8940 entries, 0 to 8939\n",
      "Data columns (total 6 columns):\n",
      " #   Column         Non-Null Count  Dtype  \n",
      "---  ------         --------------  -----  \n",
      " 0   timestamp      8940 non-null   object \n",
      " 1   temperature    8938 non-null   float64\n",
      " 2   windspeed      8940 non-null   object \n",
      " 3   weather        912 non-null    object \n",
      " 4   pressure       8940 non-null   float64\n",
      " 5   precipitation  340 non-null    float64\n",
      "dtypes: float64(3), object(3)\n",
      "memory usage: 419.2+ KB\n"
     ]
    }
   ],
   "source": [
    "# Check how data columns look like:\n",
    "df_2021.info()"
   ]
  },
  {
   "cell_type": "code",
   "execution_count": 52,
   "id": "182b3f0c-2094-404d-9228-c9c3b9b606a4",
   "metadata": {
    "tags": []
   },
   "outputs": [],
   "source": [
    "df_2021.drop(df_2021.index[df_2021['temperature'].isna()], inplace = True)"
   ]
  },
  {
   "cell_type": "code",
   "execution_count": 53,
   "id": "275cb03e-914d-4d61-9059-64837b27d19d",
   "metadata": {
    "tags": []
   },
   "outputs": [],
   "source": [
    "# This cell suppresses copy warnings generated by python.\n",
    "pd.options.mode.chained_assignment = None"
   ]
  },
  {
   "cell_type": "code",
   "execution_count": 54,
   "id": "67ce61c6-ed55-42de-b1ad-652364fbfe7e",
   "metadata": {
    "tags": []
   },
   "outputs": [],
   "source": [
    "# Fill all cells that have no weather information with \"Fair\"\n",
    "df_2021.weather.loc[df_2021[\"weather\"].isna()] = \"Fair\""
   ]
  },
  {
   "cell_type": "code",
   "execution_count": 55,
   "id": "cfda6a47-7cec-4581-a2a6-d7456b55292f",
   "metadata": {
    "tags": []
   },
   "outputs": [
    {
     "data": {
      "text/plain": [
       "array(['Fair', 'Lt rain', 'Lt rain, Mist', 'Hvy rain', 'Rain, Mist',\n",
       "       'Rain', 'Hvy rain, Mist', 'Haze', 'Mist', 'Fog',\n",
       "       'Thunder, Lt rain', 'Lt thunder shwr', 'Smoke', 'Thunder'],\n",
       "      dtype=object)"
      ]
     },
     "execution_count": 55,
     "metadata": {},
     "output_type": "execute_result"
    }
   ],
   "source": [
    "# Check unique weather descriptions:\n",
    "df_2021.weather.unique()"
   ]
  },
  {
   "cell_type": "code",
   "execution_count": 56,
   "id": "7af4b49f-4ef3-4ba5-af84-5d5f80c2d01e",
   "metadata": {
    "tags": []
   },
   "outputs": [
    {
     "data": {
      "text/plain": [
       "array(['9', '15', '13', '17', '11', '6', '7', '0', '19', '20', '17G35',\n",
       "       '19G37', '24G39', '20G41', '22', '26G37', '26', '22G33', '19G31',\n",
       "       '28', '22G30', '13G37', '35G56', '26G41', '30G41', '28G41',\n",
       "       '26G33', '24G33', '24', '20G43', '22G35', '41G54', '20G48',\n",
       "       '24G35', '28G35', '30G43', '31G41', '17G31', '15G28', '17G30',\n",
       "       '19G41', '35G69', '46G59', '54G74', '65G78', '52G87', '50G74',\n",
       "       '33G63', '20G37', '22G37', '13G28', '13G35', '24G31', '15G37',\n",
       "       '20G30', '22G39', '20G33', '22G48', '28G46', '30G54', '35G48',\n",
       "       '28G48', '28G43', '28G44', '44G61', '24G37', '19G44', '43G61',\n",
       "       '35G52', '30', '15G30', '17G28', '20G28', '19G28', '13G30',\n",
       "       '20G31', '19G26', '13G26', '19G33', '17G26', '11G30', '19G30',\n",
       "       '22G31', '30G44', '30G39', '26G35', '15G31', '15G26', '28G39',\n",
       "       '11G31', '30G48', '22G44', '28G37', '30G50', '26G54', '17G33',\n",
       "       '6G31', '20G26', '24G30', '26G44', '17G37', '37G59', '41G57',\n",
       "       '43G52', '33G46', '20G39', '33G39', '30G46', '20G35', '31G48',\n",
       "       '35G44', '22G43', '35G46', '31G44', '31G52', '37G57', '37G52',\n",
       "       '33G54', '39G54', '31G56', '39G56', '19G39', '24G50', '35G41',\n",
       "       '22G28', '26G39', '33G44', '15G35', '31G50', '24G41', '19G35',\n",
       "       '28G57', '11G35', '37G48', '31G43', '26G52', '26G48', '22G41',\n",
       "       '44G67', '39G65', '44G56', '35G50', '33G50', '19G43', '31',\n",
       "       '33G52'], dtype=object)"
      ]
     },
     "execution_count": 56,
     "metadata": {},
     "output_type": "execute_result"
    }
   ],
   "source": [
    "# Check unique windspeed values:\n",
    "df_2021.windspeed.unique()"
   ]
  },
  {
   "cell_type": "code",
   "execution_count": 57,
   "id": "704a948f-910f-498d-8d4f-16b030e245de",
   "metadata": {
    "tags": []
   },
   "outputs": [],
   "source": [
    "# Fill missing precipitation data with zeroes:\n",
    "df_2021.precipitation = df_2021.precipitation.fillna(0)"
   ]
  },
  {
   "cell_type": "code",
   "execution_count": 58,
   "id": "bcbb2b59-fe20-4844-8553-63abde67ee8a",
   "metadata": {
    "tags": []
   },
   "outputs": [],
   "source": [
    "# The windspeed is a String column that sometimes contains a \"Gxx\" suffix. This one will be cut off by the following code:\n",
    "df_2021[\"windspeed\"].loc[df_2021.windspeed.str.len() == 5] = df_2021[\"windspeed\"].loc[df_2021.windspeed.str.len() == 5].str[0:1]\n",
    "df_2021[\"windspeed\"].loc[df_2021.windspeed.str.len() == 4] = df_2021[\"windspeed\"].loc[df_2021.windspeed.str.len() == 4].str[0]\n",
    "df_2021.windspeed = df_2021.windspeed.astype(\"float64\")"
   ]
  },
  {
   "cell_type": "code",
   "execution_count": 59,
   "id": "11fd6351-1fc2-4390-8742-81b83a9d1565",
   "metadata": {
    "tags": []
   },
   "outputs": [
    {
     "data": {
      "text/html": [
       "<div>\n",
       "<style scoped>\n",
       "    .dataframe tbody tr th:only-of-type {\n",
       "        vertical-align: middle;\n",
       "    }\n",
       "\n",
       "    .dataframe tbody tr th {\n",
       "        vertical-align: top;\n",
       "    }\n",
       "\n",
       "    .dataframe thead th {\n",
       "        text-align: right;\n",
       "    }\n",
       "</style>\n",
       "<table border=\"1\" class=\"dataframe\">\n",
       "  <thead>\n",
       "    <tr style=\"text-align: right;\">\n",
       "      <th></th>\n",
       "      <th>timestamp</th>\n",
       "      <th>temperature</th>\n",
       "      <th>windspeed</th>\n",
       "      <th>weather</th>\n",
       "      <th>pressure</th>\n",
       "      <th>precipitation</th>\n",
       "    </tr>\n",
       "  </thead>\n",
       "  <tbody>\n",
       "    <tr>\n",
       "      <th>21</th>\n",
       "      <td>Dec 30, 6:53 pm</td>\n",
       "      <td>12.0</td>\n",
       "      <td>13.0</td>\n",
       "      <td>Fair</td>\n",
       "      <td>982.86</td>\n",
       "      <td>0.03</td>\n",
       "    </tr>\n",
       "    <tr>\n",
       "      <th>56</th>\n",
       "      <td>Dec 29, 10:53 am</td>\n",
       "      <td>11.0</td>\n",
       "      <td>17.0</td>\n",
       "      <td>Fair</td>\n",
       "      <td>986.16</td>\n",
       "      <td>0.25</td>\n",
       "    </tr>\n",
       "    <tr>\n",
       "      <th>100</th>\n",
       "      <td>Dec 27, 5:53 pm</td>\n",
       "      <td>10.0</td>\n",
       "      <td>9.0</td>\n",
       "      <td>Fair</td>\n",
       "      <td>984.84</td>\n",
       "      <td>0.03</td>\n",
       "    </tr>\n",
       "    <tr>\n",
       "      <th>141</th>\n",
       "      <td>Dec 26, 1:53 am</td>\n",
       "      <td>11.0</td>\n",
       "      <td>6.0</td>\n",
       "      <td>Fair</td>\n",
       "      <td>988.14</td>\n",
       "      <td>0.03</td>\n",
       "    </tr>\n",
       "    <tr>\n",
       "      <th>142</th>\n",
       "      <td>Dec 26, 12:53 am</td>\n",
       "      <td>11.0</td>\n",
       "      <td>9.0</td>\n",
       "      <td>Fair</td>\n",
       "      <td>987.48</td>\n",
       "      <td>0.51</td>\n",
       "    </tr>\n",
       "    <tr>\n",
       "      <th>...</th>\n",
       "      <td>...</td>\n",
       "      <td>...</td>\n",
       "      <td>...</td>\n",
       "      <td>...</td>\n",
       "      <td>...</td>\n",
       "      <td>...</td>\n",
       "    </tr>\n",
       "    <tr>\n",
       "      <th>8403</th>\n",
       "      <td>Jan 23, 3:53 am</td>\n",
       "      <td>8.0</td>\n",
       "      <td>0.0</td>\n",
       "      <td>Fair</td>\n",
       "      <td>986.16</td>\n",
       "      <td>0.25</td>\n",
       "    </tr>\n",
       "    <tr>\n",
       "      <th>8405</th>\n",
       "      <td>Jan 23, 2:53 am</td>\n",
       "      <td>9.0</td>\n",
       "      <td>7.0</td>\n",
       "      <td>Fair</td>\n",
       "      <td>986.82</td>\n",
       "      <td>0.03</td>\n",
       "    </tr>\n",
       "    <tr>\n",
       "      <th>8488</th>\n",
       "      <td>Jan 19, 8:53 pm</td>\n",
       "      <td>17.0</td>\n",
       "      <td>3.0</td>\n",
       "      <td>Fair</td>\n",
       "      <td>985.83</td>\n",
       "      <td>0.03</td>\n",
       "    </tr>\n",
       "    <tr>\n",
       "      <th>8515</th>\n",
       "      <td>Jan 18, 6:53 pm</td>\n",
       "      <td>20.0</td>\n",
       "      <td>9.0</td>\n",
       "      <td>Fair</td>\n",
       "      <td>980.88</td>\n",
       "      <td>0.03</td>\n",
       "    </tr>\n",
       "    <tr>\n",
       "      <th>8712</th>\n",
       "      <td>Jan 10, 1:53 pm</td>\n",
       "      <td>20.0</td>\n",
       "      <td>7.0</td>\n",
       "      <td>Fair</td>\n",
       "      <td>993.75</td>\n",
       "      <td>0.03</td>\n",
       "    </tr>\n",
       "  </tbody>\n",
       "</table>\n",
       "<p>112 rows × 6 columns</p>\n",
       "</div>"
      ],
      "text/plain": [
       "             timestamp  temperature  windspeed weather  pressure  \\\n",
       "21     Dec 30, 6:53 pm         12.0       13.0    Fair    982.86   \n",
       "56    Dec 29, 10:53 am         11.0       17.0    Fair    986.16   \n",
       "100    Dec 27, 5:53 pm         10.0        9.0    Fair    984.84   \n",
       "141    Dec 26, 1:53 am         11.0        6.0    Fair    988.14   \n",
       "142   Dec 26, 12:53 am         11.0        9.0    Fair    987.48   \n",
       "...                ...          ...        ...     ...       ...   \n",
       "8403   Jan 23, 3:53 am          8.0        0.0    Fair    986.16   \n",
       "8405   Jan 23, 2:53 am          9.0        7.0    Fair    986.82   \n",
       "8488   Jan 19, 8:53 pm         17.0        3.0    Fair    985.83   \n",
       "8515   Jan 18, 6:53 pm         20.0        9.0    Fair    980.88   \n",
       "8712   Jan 10, 1:53 pm         20.0        7.0    Fair    993.75   \n",
       "\n",
       "      precipitation  \n",
       "21             0.03  \n",
       "56             0.25  \n",
       "100            0.03  \n",
       "141            0.03  \n",
       "142            0.51  \n",
       "...             ...  \n",
       "8403           0.25  \n",
       "8405           0.03  \n",
       "8488           0.03  \n",
       "8515           0.03  \n",
       "8712           0.03  \n",
       "\n",
       "[112 rows x 6 columns]"
      ]
     },
     "execution_count": 59,
     "metadata": {},
     "output_type": "execute_result"
    }
   ],
   "source": [
    "# See how many entries have a wrong weather condition assigned:\n",
    "df_2021.loc[(df_2021.weather == \"Fair\") & (df_2021.precipitation > 0.)]"
   ]
  },
  {
   "cell_type": "code",
   "execution_count": 60,
   "id": "90283009-4c9c-455f-83e0-30a58045115b",
   "metadata": {
    "tags": []
   },
   "outputs": [],
   "source": [
    "# Correct weather assignment accordingly:\n",
    "df_2021.weather.loc[(df_2021.weather == \"Fair\") & (df_2021.precipitation > 0.) & (df_2021.precipitation < 1.)] = \"Light Rain\"\n",
    "df_2021.weather.loc[(df_2021.weather == \"Fair\") & (df_2021.precipitation >= 1.) & (df_2021.precipitation < 2.)] = \"Rain\"\n",
    "df_2021.weather.loc[(df_2021.weather == \"Fair\") & (df_2021.precipitation >= 2.)] = \"Heavy Rain\""
   ]
  },
  {
   "cell_type": "code",
   "execution_count": 61,
   "id": "30f89760-9ceb-4d11-98ef-f0a7f35ebe90",
   "metadata": {
    "tags": []
   },
   "outputs": [
    {
     "data": {
      "text/plain": [
       "array([ 0.  ,  0.03,  1.52,  0.25,  1.27,  0.76,  1.02,  2.03,  3.3 ,\n",
       "        3.05,  5.33,  4.57,  5.08,  4.32,  4.06,  3.56,  2.54,  0.51,\n",
       "        4.83,  2.29,  3.81, 14.99,  6.1 ,  6.86,  6.6 ,  5.84,  7.11,\n",
       "        1.78,  5.59,  2.79,  9.14,  7.87,  9.65])"
      ]
     },
     "execution_count": 61,
     "metadata": {},
     "output_type": "execute_result"
    }
   ],
   "source": [
    "# Check unique precipitation values:\n",
    "df_2021.precipitation.unique()"
   ]
  },
  {
   "cell_type": "code",
   "execution_count": 62,
   "id": "e52540d3-2b26-4026-a6a5-a51fb4d5a881",
   "metadata": {
    "tags": []
   },
   "outputs": [
    {
     "data": {
      "text/plain": [
       "array(['Fair', 'Haze', 'Partly Cloudy', 'Mostly Cloudy', 'Cloudy', 'Fog',\n",
       "       'Light Rain', 'Rain', 'Heavy Rain', 'Heavy Rain / Windy',\n",
       "       'Light Rain / Windy', 'T-Storm', 'Fair / Windy', 'Cloudy / Windy',\n",
       "       'Mostly Cloudy / Windy', 'Partly Cloudy / Windy',\n",
       "       'Thunder in the Vicinity', 'Thunder', 'Smoke',\n",
       "       'Light Rain with Thunder', 'Heavy T-Storm', 'Rain / Windy',\n",
       "       'Blowing Dust'], dtype=object)"
      ]
     },
     "execution_count": 62,
     "metadata": {},
     "output_type": "execute_result"
    }
   ],
   "source": [
    "# Load original weather data and check unique weather names:\n",
    "df_weather_cleaned = pd.DataFrame(pd.read_csv(\"../datasets/weather_burbank_airport_cleaned.csv\"))\n",
    "df_weather_cleaned.weather.unique()"
   ]
  },
  {
   "cell_type": "code",
   "execution_count": 63,
   "id": "a2dea3dd-3142-4d89-a42b-7a52bc8149ac",
   "metadata": {
    "tags": []
   },
   "outputs": [],
   "source": [
    "# Rename some of the weather names to match the names from existing weather data:\n",
    "df_2021.weather.loc[df_2021.weather == \"Lt rain\"] = \"Light Rain\"\n",
    "df_2021.weather.loc[df_2021.weather == \"Lt rain, Mist\"] = \"Light Rain / Mist\"\n",
    "df_2021.weather.loc[df_2021.weather == \"Hvy rain\"] = \"Heavy Rain\"\n",
    "df_2021.weather.loc[df_2021.weather == \"Rain, Mist\"] = \"Rain / Mist\"\n",
    "df_2021.weather.loc[df_2021.weather == \"Hvy rain, Mist\"] = \"Heavy Rain / Mist\"\n",
    "df_2021.weather.loc[df_2021.weather == \"Thunder, Lt rain\"] = \"Light Rain with Thunder\"\n",
    "df_2021.weather.loc[df_2021.weather == \"Lt thunder shwr\"] = \"Heavy Rain with Light Thunder\""
   ]
  },
  {
   "cell_type": "code",
   "execution_count": 64,
   "id": "5c31d5cb-f01a-42d6-b301-1a1d9bf07313",
   "metadata": {
    "tags": []
   },
   "outputs": [
    {
     "data": {
      "text/plain": [
       "array([14., 16., 15., 13., 12., 11.,  9.,  8., 10.,  7.,  5.,  4.,  6.,\n",
       "       17., 18., 21., 22., 20., 19.,  3., 24., 26., 28., 30., 31., 29.,\n",
       "       23., 27., 25., 33., 32., 34., 36., 35., 37., 38., 39., 40.])"
      ]
     },
     "execution_count": 64,
     "metadata": {},
     "output_type": "execute_result"
    }
   ],
   "source": [
    "# Check unique temperature values:\n",
    "df_2021.temperature.unique()"
   ]
  },
  {
   "cell_type": "code",
   "execution_count": 65,
   "id": "612bfaba-f029-4438-b119-fc1041955944",
   "metadata": {
    "tags": []
   },
   "outputs": [
    {
     "data": {
      "text/plain": [
       "array([ 979.23,  978.57,  978.9 ,  979.89,  980.88,  981.54,  981.21,\n",
       "        980.55,  980.22,  982.53,  983.19,  982.86,  983.52,  983.85,\n",
       "        984.51,  984.84,  984.18,  985.17,  986.16,  985.5 ,  985.83,\n",
       "        986.82,  987.81,  988.47,  989.46,  990.45,  991.44,  991.11,\n",
       "        991.77,  992.1 ,  990.78,  990.12,  992.76,  992.43,  989.13,\n",
       "        988.8 ,  988.14,  987.48,  987.15,  989.79,  986.49,  982.2 ,\n",
       "        993.75,  993.09,  993.42,  994.08,  994.41,  994.74,  995.39,\n",
       "        995.72,  995.06,  996.05,  996.38,  997.37,  997.7 ,  997.04,\n",
       "        996.71,  998.36,  998.03,  981.87,  977.25,  976.59,  977.91,\n",
       "        979.56,  978.24,  999.02,  999.68, 1000.01,  999.35,  998.69])"
      ]
     },
     "execution_count": 65,
     "metadata": {},
     "output_type": "execute_result"
    }
   ],
   "source": [
    "# Check unique pressure values:\n",
    "df_2021.pressure.unique()"
   ]
  },
  {
   "cell_type": "code",
   "execution_count": 66,
   "id": "bffe15d8-c547-42cf-8c0d-bd1ee23bcee4",
   "metadata": {
    "tags": []
   },
   "outputs": [],
   "source": [
    "# The following script converts unrecognizable format of date and times to the format used by pandas timedate object.\n",
    "# We assume that times in the retreived data are already local, which plays later an important role.\n",
    "a = list(df_2021['timestamp'])\n",
    "months = {\"Jan\":\"01\",\"Feb\":\"02\",\"Mar\":\"03\",\"Apr\":\"04\",\"May\":\"05\",\"Jun\":\"06\",\"Jul\":\"07\",\"Aug\":\"08\",\"Sep\":\"09\",\"Oct\":\"10\",\"Nov\":\"11\",\"Dec\":\"12\"}\n",
    "for i in range(0, len(a)):\n",
    "    b = a[i].split(\" \")\n",
    "    c = \"2021-\"\n",
    "    if len(b[1]) == 3:\n",
    "        c = c + months.get(b[0]) + \"-\" + b[1][0:2] + \" \"\n",
    "    else:\n",
    "        c = c + months.get(b[0]) + \"-0\" + b[1][0:1] + \" \"\n",
    "    if b[3] == \"pm\" and (int(b[2].split(\":\")[0])) < 12:\n",
    "        b[2] = str(int(b[2].split(\":\")[0]) + 12) + \":\" + b[2].split(\":\")[1]\n",
    "    if len(b[2]) == 5:\n",
    "        c = c + b[2] + \":00\"\n",
    "    else:\n",
    "        c = c + \"0\" + b[2] + \":00\"\n",
    "    a[i] = c\n",
    "df_2021.timestamp = a"
   ]
  },
  {
   "cell_type": "code",
   "execution_count": 67,
   "id": "ed34c12a-ffee-49ec-9598-4182c10f50de",
   "metadata": {
    "tags": []
   },
   "outputs": [
    {
     "data": {
      "text/html": [
       "<div>\n",
       "<style scoped>\n",
       "    .dataframe tbody tr th:only-of-type {\n",
       "        vertical-align: middle;\n",
       "    }\n",
       "\n",
       "    .dataframe tbody tr th {\n",
       "        vertical-align: top;\n",
       "    }\n",
       "\n",
       "    .dataframe thead th {\n",
       "        text-align: right;\n",
       "    }\n",
       "</style>\n",
       "<table border=\"1\" class=\"dataframe\">\n",
       "  <thead>\n",
       "    <tr style=\"text-align: right;\">\n",
       "      <th></th>\n",
       "      <th>timestamp</th>\n",
       "      <th>temperature</th>\n",
       "      <th>windspeed</th>\n",
       "      <th>weather</th>\n",
       "      <th>pressure</th>\n",
       "      <th>precipitation</th>\n",
       "    </tr>\n",
       "  </thead>\n",
       "  <tbody>\n",
       "    <tr>\n",
       "      <th>0</th>\n",
       "      <td>2021-12-31 15:53:00</td>\n",
       "      <td>14.0</td>\n",
       "      <td>9.0</td>\n",
       "      <td>Fair</td>\n",
       "      <td>979.23</td>\n",
       "      <td>0.0</td>\n",
       "    </tr>\n",
       "    <tr>\n",
       "      <th>1</th>\n",
       "      <td>2021-12-31 14:53:00</td>\n",
       "      <td>14.0</td>\n",
       "      <td>15.0</td>\n",
       "      <td>Fair</td>\n",
       "      <td>978.57</td>\n",
       "      <td>0.0</td>\n",
       "    </tr>\n",
       "    <tr>\n",
       "      <th>2</th>\n",
       "      <td>2021-12-31 13:53:00</td>\n",
       "      <td>16.0</td>\n",
       "      <td>13.0</td>\n",
       "      <td>Fair</td>\n",
       "      <td>978.90</td>\n",
       "      <td>0.0</td>\n",
       "    </tr>\n",
       "    <tr>\n",
       "      <th>3</th>\n",
       "      <td>2021-12-31 12:53:00</td>\n",
       "      <td>16.0</td>\n",
       "      <td>17.0</td>\n",
       "      <td>Fair</td>\n",
       "      <td>978.90</td>\n",
       "      <td>0.0</td>\n",
       "    </tr>\n",
       "    <tr>\n",
       "      <th>4</th>\n",
       "      <td>2021-12-31 11:53:00</td>\n",
       "      <td>16.0</td>\n",
       "      <td>11.0</td>\n",
       "      <td>Fair</td>\n",
       "      <td>979.89</td>\n",
       "      <td>0.0</td>\n",
       "    </tr>\n",
       "  </tbody>\n",
       "</table>\n",
       "</div>"
      ],
      "text/plain": [
       "             timestamp  temperature  windspeed weather  pressure  \\\n",
       "0  2021-12-31 15:53:00         14.0        9.0    Fair    979.23   \n",
       "1  2021-12-31 14:53:00         14.0       15.0    Fair    978.57   \n",
       "2  2021-12-31 13:53:00         16.0       13.0    Fair    978.90   \n",
       "3  2021-12-31 12:53:00         16.0       17.0    Fair    978.90   \n",
       "4  2021-12-31 11:53:00         16.0       11.0    Fair    979.89   \n",
       "\n",
       "   precipitation  \n",
       "0            0.0  \n",
       "1            0.0  \n",
       "2            0.0  \n",
       "3            0.0  \n",
       "4            0.0  "
      ]
     },
     "execution_count": 67,
     "metadata": {},
     "output_type": "execute_result"
    }
   ],
   "source": [
    "# Check the data and especially new timestamp format:\n",
    "df_2021.head()"
   ]
  },
  {
   "cell_type": "code",
   "execution_count": 68,
   "id": "57934328-7fa5-4c84-93de-c53ca5d04b73",
   "metadata": {
    "tags": []
   },
   "outputs": [],
   "source": [
    "# Convert timestamps to LA timezone. Some times will be flagged as nonexistent and will be deleted in next step. There are only 1-2 times with such error.\n",
    "df_2021['timestamp'] = pd.to_datetime(df_2021['timestamp']).dt.tz_localize(tz='America/Los_Angeles', ambiguous='NaT', nonexistent='shift_forward')"
   ]
  },
  {
   "cell_type": "code",
   "execution_count": 69,
   "id": "68d8b584-979d-4367-bccc-b0a830b1579b",
   "metadata": {
    "tags": []
   },
   "outputs": [],
   "source": [
    "# Clear NaT rows:\n",
    "df_2021 = df_2021[df_2021.timestamp.isna() == False]"
   ]
  },
  {
   "cell_type": "code",
   "execution_count": 70,
   "id": "b53e464a-ae18-403b-befb-069070faf44f",
   "metadata": {
    "tags": []
   },
   "outputs": [],
   "source": [
    "# Rearrange columns to get same order as in original weather dataset:\n",
    "df_2021 = df_2021.reindex(columns=['timestamp', 'temperature', 'weather', 'pressure', 'windspeed', 'precipitation'])"
   ]
  },
  {
   "cell_type": "code",
   "execution_count": 71,
   "id": "974f3dd4-3287-422d-a7c5-f36f54680878",
   "metadata": {
    "tags": []
   },
   "outputs": [],
   "source": [
    "# Weather data is now cleaned, export it ordered by date and time:\n",
    "df_2021.sort_values('timestamp', inplace=True)\n",
    "df_2021.to_csv(\"../datasets/2021_cleaned.csv\", index=False)"
   ]
  },
  {
   "cell_type": "markdown",
   "id": "0d90b7c9-eb9f-4b08-99d7-e9126fdf61c3",
   "metadata": {},
   "source": [
    "#### 1.4 Extending Weather Data"
   ]
  },
  {
   "cell_type": "code",
   "execution_count": 72,
   "id": "bd96e3e3-564f-49d6-92bb-074f664fc690",
   "metadata": {
    "tags": []
   },
   "outputs": [],
   "source": [
    "# Remove all data for 2021 that is included in original dataset:\n",
    "df_weather = df_weather[df_weather.timestamp.dt.year != 2021]"
   ]
  },
  {
   "cell_type": "code",
   "execution_count": 73,
   "id": "5eeb8c07-06fb-42e5-880a-9fdb68a3a2c8",
   "metadata": {
    "tags": []
   },
   "outputs": [],
   "source": [
    "# Import cleaned weather for 2021:\n",
    "df_2021_cleaned = pd.DataFrame(pd.read_csv(\"../datasets/2021_cleaned.csv\"))"
   ]
  },
  {
   "cell_type": "code",
   "execution_count": 74,
   "id": "7aa0acb3-da56-4abc-96b2-3e7f7a4f40fe",
   "metadata": {
    "tags": []
   },
   "outputs": [],
   "source": [
    "# Stack data for 2021 on original dataset:\n",
    "df_weather_extended = pd.concat([df_weather, df_2021_cleaned], ignore_index=True)"
   ]
  },
  {
   "cell_type": "code",
   "execution_count": 75,
   "id": "c820bc5d-5fc6-49a1-bb33-1e23438bda47",
   "metadata": {
    "tags": []
   },
   "outputs": [
    {
     "name": "stdout",
     "output_type": "stream",
     "text": [
      "<class 'pandas.core.frame.DataFrame'>\n",
      "RangeIndex: 38030 entries, 0 to 38029\n",
      "Data columns (total 6 columns):\n",
      " #   Column         Non-Null Count  Dtype  \n",
      "---  ------         --------------  -----  \n",
      " 0   timestamp      38030 non-null  object \n",
      " 1   temperature    38030 non-null  float64\n",
      " 2   weather        38030 non-null  object \n",
      " 3   pressure       38030 non-null  float64\n",
      " 4   windspeed      38030 non-null  float64\n",
      " 5   precipitation  38030 non-null  float64\n",
      "dtypes: float64(4), object(2)\n",
      "memory usage: 1.7+ MB\n"
     ]
    }
   ],
   "source": [
    "# Check how the dataset structure looks like and how many rows we achieved:\n",
    "df_weather_extended.info()"
   ]
  },
  {
   "cell_type": "code",
   "execution_count": 76,
   "id": "a114cf5b-1488-4a8f-a8cd-d6a6f5cd3349",
   "metadata": {
    "tags": []
   },
   "outputs": [],
   "source": [
    "# Convert timestamp to datetime object:\n",
    "df_weather_extended['timestamp'] = pd.to_datetime(df_weather_extended['timestamp'], utc=True).dt.tz_convert('America/Los_Angeles')"
   ]
  },
  {
   "cell_type": "code",
   "execution_count": 77,
   "id": "de1f053d-a183-4fae-b701-11f1e5cd3814",
   "metadata": {
    "tags": []
   },
   "outputs": [],
   "source": [
    "# Export extended weather data as CSV:\n",
    "df_weather_extended.to_csv(\"../datasets/df_weather_cleaned_extended.csv\", index=False)"
   ]
  },
  {
   "cell_type": "markdown",
   "id": "bd21908b-ccba-43f4-a4ae-a9cac9f7c161",
   "metadata": {},
   "source": [
    "#### 1.5 Merging Weather Data on Charging Sessions"
   ]
  },
  {
   "cell_type": "code",
   "execution_count": 78,
   "id": "24dc453c-44f7-4327-8a23-57085863612f",
   "metadata": {
    "tags": []
   },
   "outputs": [],
   "source": [
    "# For merging we have to rename our timestamp column:\n",
    "df_weather_extended.rename(columns={\"timestamp\": \"connectionTime\"}, inplace=True)\n",
    "df_weather_extended.sort_values(\"connectionTime\", inplace=True)"
   ]
  },
  {
   "cell_type": "code",
   "execution_count": 79,
   "id": "659c98b8-701b-4f61-8236-7cfebda000ba",
   "metadata": {
    "tags": []
   },
   "outputs": [
    {
     "name": "stdout",
     "output_type": "stream",
     "text": [
      "<class 'pandas.core.frame.DataFrame'>\n",
      "Index: 38030 entries, 0 to 38029\n",
      "Data columns (total 6 columns):\n",
      " #   Column          Non-Null Count  Dtype                              \n",
      "---  ------          --------------  -----                              \n",
      " 0   connectionTime  38030 non-null  datetime64[ns, America/Los_Angeles]\n",
      " 1   temperature     38030 non-null  float64                            \n",
      " 2   weather         38030 non-null  object                             \n",
      " 3   pressure        38030 non-null  float64                            \n",
      " 4   windspeed       38030 non-null  float64                            \n",
      " 5   precipitation   38030 non-null  float64                            \n",
      "dtypes: datetime64[ns, America/Los_Angeles](1), float64(4), object(1)\n",
      "memory usage: 2.0+ MB\n"
     ]
    }
   ],
   "source": [
    "df_weather_extended.info()"
   ]
  },
  {
   "cell_type": "code",
   "execution_count": 80,
   "id": "0c12a36c-f611-4bde-b8fe-36e3149ea37b",
   "metadata": {
    "tags": []
   },
   "outputs": [],
   "source": [
    "# Now we can merge with a single-line magic command based on timestamps.\n",
    "# This means we perform a left-join and assign closest weather entries to the session start times.\n",
    "df_charging_sessions_with_weather = pd.merge_asof(df_charging_sessions, df_weather_extended, on=\"connectionTime\", direction=\"nearest\")"
   ]
  },
  {
   "cell_type": "code",
   "execution_count": 81,
   "id": "2d7eb5e4-b100-4c6b-a29d-55b0ad18e14c",
   "metadata": {
    "tags": []
   },
   "outputs": [
    {
     "name": "stdout",
     "output_type": "stream",
     "text": [
      "<class 'pandas.core.frame.DataFrame'>\n",
      "RangeIndex: 63883 entries, 0 to 63882\n",
      "Data columns (total 16 columns):\n",
      " #   Column            Non-Null Count  Dtype                              \n",
      "---  ------            --------------  -----                              \n",
      " 0   id                63883 non-null  object                             \n",
      " 1   connectionTime    63883 non-null  datetime64[ns, America/Los_Angeles]\n",
      " 2   disconnectTime    63883 non-null  datetime64[ns, America/Los_Angeles]\n",
      " 3   doneChargingTime  63883 non-null  datetime64[ns, America/Los_Angeles]\n",
      " 4   kWhDelivered      63883 non-null  float64                            \n",
      " 5   sessionID         63883 non-null  object                             \n",
      " 6   siteID            63883 non-null  int64                              \n",
      " 7   spaceID           63883 non-null  object                             \n",
      " 8   stationID         63883 non-null  object                             \n",
      " 9   userID            63883 non-null  float64                            \n",
      " 10  userInputs        63883 non-null  object                             \n",
      " 11  temperature       63883 non-null  float64                            \n",
      " 12  weather           63883 non-null  object                             \n",
      " 13  pressure          63883 non-null  float64                            \n",
      " 14  windspeed         63883 non-null  float64                            \n",
      " 15  precipitation     63883 non-null  float64                            \n",
      "dtypes: datetime64[ns, America/Los_Angeles](3), float64(6), int64(1), object(6)\n",
      "memory usage: 7.8+ MB\n"
     ]
    }
   ],
   "source": [
    "# Let's check the columns:\n",
    "df_charging_sessions_with_weather.info()"
   ]
  },
  {
   "cell_type": "code",
   "execution_count": 82,
   "id": "6d3fe0f7-0740-4d24-996a-79e0537eaeb3",
   "metadata": {
    "tags": []
   },
   "outputs": [
    {
     "data": {
      "text/html": [
       "<div>\n",
       "<style scoped>\n",
       "    .dataframe tbody tr th:only-of-type {\n",
       "        vertical-align: middle;\n",
       "    }\n",
       "\n",
       "    .dataframe tbody tr th {\n",
       "        vertical-align: top;\n",
       "    }\n",
       "\n",
       "    .dataframe thead th {\n",
       "        text-align: right;\n",
       "    }\n",
       "</style>\n",
       "<table border=\"1\" class=\"dataframe\">\n",
       "  <thead>\n",
       "    <tr style=\"text-align: right;\">\n",
       "      <th></th>\n",
       "      <th>id</th>\n",
       "      <th>connectionTime</th>\n",
       "      <th>disconnectTime</th>\n",
       "      <th>doneChargingTime</th>\n",
       "      <th>kWhDelivered</th>\n",
       "      <th>sessionID</th>\n",
       "      <th>siteID</th>\n",
       "      <th>spaceID</th>\n",
       "      <th>stationID</th>\n",
       "      <th>userID</th>\n",
       "      <th>userInputs</th>\n",
       "      <th>temperature</th>\n",
       "      <th>weather</th>\n",
       "      <th>pressure</th>\n",
       "      <th>windspeed</th>\n",
       "      <th>precipitation</th>\n",
       "    </tr>\n",
       "  </thead>\n",
       "  <tbody>\n",
       "    <tr>\n",
       "      <th>0</th>\n",
       "      <td>5bc90cb9f9af8b0d7fe77cd2</td>\n",
       "      <td>2018-04-25 04:08:04-07:00</td>\n",
       "      <td>2018-04-25 06:20:10-07:00</td>\n",
       "      <td>2018-04-25 06:20:10-07:00</td>\n",
       "      <td>7.932</td>\n",
       "      <td>2_39_78_362_2018-04-25 11:08:04.400812</td>\n",
       "      <td>2</td>\n",
       "      <td>CA-496</td>\n",
       "      <td>2-39-78-362</td>\n",
       "      <td>0.0</td>\n",
       "      <td>[]</td>\n",
       "      <td>18.0</td>\n",
       "      <td>Partly Cloudy</td>\n",
       "      <td>987.47</td>\n",
       "      <td>7.0</td>\n",
       "      <td>0.0</td>\n",
       "    </tr>\n",
       "    <tr>\n",
       "      <th>1</th>\n",
       "      <td>5bc90cb9f9af8b0d7fe77cd3</td>\n",
       "      <td>2018-04-25 06:45:10-07:00</td>\n",
       "      <td>2018-04-25 17:56:16-07:00</td>\n",
       "      <td>2018-04-25 09:44:15-07:00</td>\n",
       "      <td>10.013</td>\n",
       "      <td>2_39_95_27_2018-04-25 13:45:09.617470</td>\n",
       "      <td>2</td>\n",
       "      <td>CA-319</td>\n",
       "      <td>2-39-95-27</td>\n",
       "      <td>0.0</td>\n",
       "      <td>[]</td>\n",
       "      <td>16.0</td>\n",
       "      <td>Fair</td>\n",
       "      <td>988.78</td>\n",
       "      <td>13.0</td>\n",
       "      <td>0.0</td>\n",
       "    </tr>\n",
       "    <tr>\n",
       "      <th>2</th>\n",
       "      <td>5bc90cb9f9af8b0d7fe77cd4</td>\n",
       "      <td>2018-04-25 06:45:50-07:00</td>\n",
       "      <td>2018-04-25 16:04:45-07:00</td>\n",
       "      <td>2018-04-25 07:51:44-07:00</td>\n",
       "      <td>5.257</td>\n",
       "      <td>2_39_79_380_2018-04-25 13:45:49.962001</td>\n",
       "      <td>2</td>\n",
       "      <td>CA-489</td>\n",
       "      <td>2-39-79-380</td>\n",
       "      <td>0.0</td>\n",
       "      <td>[]</td>\n",
       "      <td>16.0</td>\n",
       "      <td>Fair</td>\n",
       "      <td>988.78</td>\n",
       "      <td>13.0</td>\n",
       "      <td>0.0</td>\n",
       "    </tr>\n",
       "    <tr>\n",
       "      <th>3</th>\n",
       "      <td>5bc90cb9f9af8b0d7fe77cd5</td>\n",
       "      <td>2018-04-25 07:37:06-07:00</td>\n",
       "      <td>2018-04-25 16:55:34-07:00</td>\n",
       "      <td>2018-04-25 09:05:22-07:00</td>\n",
       "      <td>5.177</td>\n",
       "      <td>2_39_79_379_2018-04-25 14:37:06.460772</td>\n",
       "      <td>2</td>\n",
       "      <td>CA-327</td>\n",
       "      <td>2-39-79-379</td>\n",
       "      <td>0.0</td>\n",
       "      <td>[]</td>\n",
       "      <td>15.0</td>\n",
       "      <td>Fair</td>\n",
       "      <td>988.78</td>\n",
       "      <td>13.0</td>\n",
       "      <td>0.0</td>\n",
       "    </tr>\n",
       "    <tr>\n",
       "      <th>4</th>\n",
       "      <td>5bc90cb9f9af8b0d7fe77cd6</td>\n",
       "      <td>2018-04-25 07:40:34-07:00</td>\n",
       "      <td>2018-04-25 16:03:12-07:00</td>\n",
       "      <td>2018-04-25 10:40:30-07:00</td>\n",
       "      <td>10.119</td>\n",
       "      <td>2_39_79_381_2018-04-25 14:40:33.638896</td>\n",
       "      <td>2</td>\n",
       "      <td>CA-490</td>\n",
       "      <td>2-39-79-381</td>\n",
       "      <td>0.0</td>\n",
       "      <td>[]</td>\n",
       "      <td>15.0</td>\n",
       "      <td>Fair</td>\n",
       "      <td>988.78</td>\n",
       "      <td>13.0</td>\n",
       "      <td>0.0</td>\n",
       "    </tr>\n",
       "  </tbody>\n",
       "</table>\n",
       "</div>"
      ],
      "text/plain": [
       "                         id            connectionTime  \\\n",
       "0  5bc90cb9f9af8b0d7fe77cd2 2018-04-25 04:08:04-07:00   \n",
       "1  5bc90cb9f9af8b0d7fe77cd3 2018-04-25 06:45:10-07:00   \n",
       "2  5bc90cb9f9af8b0d7fe77cd4 2018-04-25 06:45:50-07:00   \n",
       "3  5bc90cb9f9af8b0d7fe77cd5 2018-04-25 07:37:06-07:00   \n",
       "4  5bc90cb9f9af8b0d7fe77cd6 2018-04-25 07:40:34-07:00   \n",
       "\n",
       "             disconnectTime          doneChargingTime  kWhDelivered  \\\n",
       "0 2018-04-25 06:20:10-07:00 2018-04-25 06:20:10-07:00         7.932   \n",
       "1 2018-04-25 17:56:16-07:00 2018-04-25 09:44:15-07:00        10.013   \n",
       "2 2018-04-25 16:04:45-07:00 2018-04-25 07:51:44-07:00         5.257   \n",
       "3 2018-04-25 16:55:34-07:00 2018-04-25 09:05:22-07:00         5.177   \n",
       "4 2018-04-25 16:03:12-07:00 2018-04-25 10:40:30-07:00        10.119   \n",
       "\n",
       "                                sessionID  siteID spaceID    stationID  \\\n",
       "0  2_39_78_362_2018-04-25 11:08:04.400812       2  CA-496  2-39-78-362   \n",
       "1   2_39_95_27_2018-04-25 13:45:09.617470       2  CA-319   2-39-95-27   \n",
       "2  2_39_79_380_2018-04-25 13:45:49.962001       2  CA-489  2-39-79-380   \n",
       "3  2_39_79_379_2018-04-25 14:37:06.460772       2  CA-327  2-39-79-379   \n",
       "4  2_39_79_381_2018-04-25 14:40:33.638896       2  CA-490  2-39-79-381   \n",
       "\n",
       "   userID userInputs  temperature        weather  pressure  windspeed  \\\n",
       "0     0.0         []         18.0  Partly Cloudy    987.47        7.0   \n",
       "1     0.0         []         16.0           Fair    988.78       13.0   \n",
       "2     0.0         []         16.0           Fair    988.78       13.0   \n",
       "3     0.0         []         15.0           Fair    988.78       13.0   \n",
       "4     0.0         []         15.0           Fair    988.78       13.0   \n",
       "\n",
       "   precipitation  \n",
       "0            0.0  \n",
       "1            0.0  \n",
       "2            0.0  \n",
       "3            0.0  \n",
       "4            0.0  "
      ]
     },
     "execution_count": 82,
     "metadata": {},
     "output_type": "execute_result"
    }
   ],
   "source": [
    "# Also look at a few data entries:\n",
    "df_charging_sessions_with_weather.head(5)"
   ]
  },
  {
   "cell_type": "code",
   "execution_count": 83,
   "id": "925a979f-690d-4681-84c5-d4f4b020bf37",
   "metadata": {
    "tags": []
   },
   "outputs": [],
   "source": [
    "# Export the new dataset:\n",
    "df_charging_sessions_with_weather.to_csv(\"../datasets/df_charging_sessions_with_weather.csv\", index=False)"
   ]
  }
 ],
 "metadata": {
  "kernelspec": {
   "display_name": "Python 3 (ipykernel)",
   "language": "python",
   "name": "python3"
  },
  "language_info": {
   "codemirror_mode": {
    "name": "ipython",
    "version": 3
   },
   "file_extension": ".py",
   "mimetype": "text/x-python",
   "name": "python",
   "nbconvert_exporter": "python",
   "pygments_lexer": "ipython3",
   "version": "3.11.5"
  }
 },
 "nbformat": 4,
 "nbformat_minor": 5
}
